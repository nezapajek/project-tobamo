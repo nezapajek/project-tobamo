{
 "cells": [
  {
   "cell_type": "markdown",
   "id": "877a8130",
   "metadata": {},
   "source": [
    "1. snakemake output\n",
    "2. filtering steps\n",
    "    - removing control SRRs\n",
    "    - removing cellular contigs\n",
    "    - removing duplicated studies\n",
    "3. selected 510 contigs - add metadata"
   ]
  },
  {
   "cell_type": "code",
   "execution_count": 26,
   "id": "a9b3e4ec",
   "metadata": {},
   "outputs": [],
   "source": [
    "import os\n",
    "import pandas as pd\n",
    "import numpy as np\n",
    "from Bio import SeqIO\n",
    "from pysradb.sraweb import SRAweb"
   ]
  },
  {
   "cell_type": "code",
   "execution_count": 27,
   "id": "032c2100",
   "metadata": {},
   "outputs": [],
   "source": [
    "# import data\n",
    "non_celular_path = '/home/tobamo/analize/project-tobamo/analysis/data/contigs/contigs_non_cellular_filtered.fasta'\n",
    "records = list(SeqIO.parse(non_celular_path, 'fasta'))\n",
    "record_names = list(set([r.id.split('_')[-1] for r in records]))\n",
    "gt = pd.read_excel('/home/tobamo/analize/project-tobamo/analysis/data/domain_sci_input/ground_truth_final.xlsx')\n",
    "template_cols = pd.read_excel('../data/domain_sci_input/contig_report_columns.xlsx').columns\n",
    "sra_metadata_template_cols = pd.read_excel('../data/domain_sci_input/mapping_sra_metadata.xlsx')"
   ]
  },
  {
   "cell_type": "markdown",
   "id": "d6e4c03c",
   "metadata": {},
   "source": [
    "ground truth prep"
   ]
  },
  {
   "cell_type": "code",
   "execution_count": 28,
   "id": "a426138c",
   "metadata": {},
   "outputs": [],
   "source": [
    "# prep ground truth\n",
    "gt.columns = gt.columns.str.strip()\n",
    "gt.rename(columns={'category': 'category_old'}, inplace=True)\n",
    "gt['category'] = gt['category_old'].map({\n",
    "    1: 'tob1',\n",
    "    2: 'tob2',\n",
    "    8: 'tob3',\n",
    "    3: 'oth1',\n",
    "    5: 'oth2',\n",
    "    9: 'oth3',\n",
    "    7: 'mas'\n",
    "})\n",
    "\n",
    "gt_category_mapper_old = gt.set_index('contig_name')['category_old'].to_dict()\n",
    "gt_category_mapper = gt.set_index('contig_name')['category'].to_dict()"
   ]
  },
  {
   "cell_type": "code",
   "execution_count": 7,
   "id": "6f6f547a",
   "metadata": {},
   "outputs": [],
   "source": [
    "gt.to_excel('/home/tobamo/analize/project-tobamo/analysis/data/domain_sci_input/ground_truth_final_added_categories.xlsx', index=False)"
   ]
  },
  {
   "cell_type": "markdown",
   "id": "9e1304b1",
   "metadata": {},
   "source": [
    "download metadata & keep columns of interest"
   ]
  },
  {
   "cell_type": "code",
   "execution_count": 29,
   "id": "c0811023",
   "metadata": {},
   "outputs": [],
   "source": [
    "# # RUN ONLY ONCE\n",
    "# # Initialize SRAweb\n",
    "# db = SRAweb()\n",
    "\n",
    "# # Fetch metadata for all SRRs\n",
    "# metadata = db.sra_metadata(record_names, detailed=True)\n",
    "\n",
    "# metadata.to_csv('results/metadata.csv')\n",
    "metadata = pd.read_csv('results/metadata.csv', index_col=0)"
   ]
  },
  {
   "cell_type": "code",
   "execution_count": 30,
   "id": "d08a4efd",
   "metadata": {},
   "outputs": [],
   "source": [
    "# create sra_metadata_columnames_mapper\n",
    "sra_mapper = sra_metadata_template_cols.dropna().set_index('run_accession')['corresponding_srr'].to_dict()\n",
    "\n",
    "# keep selected columns\n",
    "metadata_sub = metadata[['run_accession', 'study_accession', 'study_title', 'organism_name', 'collection_date', 'geo_loc_name', 'insdc center name']].drop_duplicates()\n",
    "metadata_sub.rename(columns={'run_accession': 'corresponding_srr'}, inplace=True)\n",
    "\n",
    "# Create mapping dictionaries for each metadata column\n",
    "col_map = {\n",
    "    'collection_date': dict(zip(metadata_sub['corresponding_srr'], metadata_sub['collection_date'])),\n",
    "    'study_accession': dict(zip(metadata_sub['corresponding_srr'], metadata_sub['study_accession'])),\n",
    "    'study_title': dict(zip(metadata_sub['corresponding_srr'], metadata_sub['study_title'])),\n",
    "    'organism_name': dict(zip(metadata_sub['corresponding_srr'], metadata_sub['organism_name'])),\n",
    "    'country': dict(zip(metadata_sub['corresponding_srr'], metadata_sub['geo_loc_name'])), \n",
    "    'submitter': dict(zip(metadata_sub['corresponding_srr'], metadata_sub['insdc center name'])),\n",
    "}"
   ]
  },
  {
   "cell_type": "markdown",
   "id": "675c8264",
   "metadata": {},
   "source": [
    "create a supplementary table"
   ]
  },
  {
   "cell_type": "code",
   "execution_count": 74,
   "id": "bc80b01c",
   "metadata": {},
   "outputs": [],
   "source": [
    "# Create an empty DataFrame with the template columns\n",
    "df = pd.DataFrame(columns=template_cols)"
   ]
  },
  {
   "cell_type": "code",
   "execution_count": 75,
   "id": "63f54769",
   "metadata": {},
   "outputs": [],
   "source": [
    "# start filling df columns\n",
    "df['contig_id'] = [rec.id.replace('=', '_') for rec in records]\n",
    "df['sequence'] = [str(rec.seq) for rec in records]\n",
    "df['corresponding_srr'] = df['contig_id'].str.split('_').str[-1]\n",
    "df['assembler'] = np.where(df['contig_id'].str.contains('NODE'), 'spades', 'megahit')\n",
    "df['contig_length'] = [len(seq) for seq in df['sequence']]\n",
    "df['ground_truth_category_old'] = df['contig_id'].map(gt_category_mapper_old)\n",
    "df['ground_truth_category'] = df['contig_id'].map(gt_category_mapper)\n",
    "df['known_or_potentially_novel_tobamovirus'] = np.where(df['ground_truth_category'].isin(['tob1', 'tob2', 'tob3']), True, False)"
   ]
  },
  {
   "cell_type": "code",
   "execution_count": 76,
   "id": "5e962b3c",
   "metadata": {},
   "outputs": [],
   "source": [
    "# Map each metadata column to df using the corresponding_srr\n",
    "for col, mapper in col_map.items():\n",
    "    df[col] = df['corresponding_srr'].map(mapper)"
   ]
  },
  {
   "cell_type": "markdown",
   "id": "90790218",
   "metadata": {},
   "source": [
    "domain scientists input"
   ]
  },
  {
   "cell_type": "code",
   "execution_count": 77,
   "id": "91d8ef50",
   "metadata": {},
   "outputs": [],
   "source": [
    "table = pd.read_excel('/home/tobamo/analize/project-tobamo/analysis/data/domain_sci_input/Tobamo - tabela za tobamo kontige - kategorije (1).xlsx')\n",
    "table.columns = table.columns.str.strip()"
   ]
  },
  {
   "cell_type": "code",
   "execution_count": 78,
   "id": "34ea028f",
   "metadata": {},
   "outputs": [],
   "source": [
    "# check what columns are completely NA\n",
    "na_cols = df.columns[df.isna().all()].tolist()"
   ]
  },
  {
   "cell_type": "code",
   "execution_count": 79,
   "id": "d136fc36",
   "metadata": {},
   "outputs": [],
   "source": [
    "# Create mapping dictionaries for columns in na_cols using table\n",
    "na_col_mappers = {}\n",
    "for col in na_cols:\n",
    "    if col in table.columns:\n",
    "        na_col_mappers[col] = table.set_index('contig_id')[col].to_dict()"
   ]
  },
  {
   "cell_type": "code",
   "execution_count": 80,
   "id": "34889259",
   "metadata": {},
   "outputs": [],
   "source": [
    "# apply mappers to fill in missing data\n",
    "for col, mapper in na_col_mappers.items():\n",
    "    df[col] = df['contig_id'].map(mapper)"
   ]
  },
  {
   "cell_type": "code",
   "execution_count": 81,
   "id": "7957a04b",
   "metadata": {},
   "outputs": [],
   "source": [
    "cols = [col for col in df.columns if col not in ['ground_truth_subcategory', 'ground_truth_category_old', 'ground_truth_category']]\n",
    "cols += ['ground_truth_subcategory', 'ground_truth_category_old', 'ground_truth_category']\n",
    "df = df[cols]"
   ]
  },
  {
   "cell_type": "markdown",
   "id": "61a2ca72",
   "metadata": {
    "vscode": {
     "languageId": "ruby"
    }
   },
   "source": [
    "add model predictions"
   ]
  },
  {
   "cell_type": "code",
   "execution_count": 82,
   "id": "24db473d",
   "metadata": {},
   "outputs": [],
   "source": [
    "model_predictions = pd.read_csv('/home/tobamo/analize/project-tobamo/analysis/model/results/snakemake/predictions/contig_predictions.csv')"
   ]
  },
  {
   "cell_type": "code",
   "execution_count": 83,
   "id": "700b239f",
   "metadata": {},
   "outputs": [],
   "source": [
    "# Create mapping dictionaries for model predictions\n",
    "model_prediction_mapper = model_predictions.set_index('contig_name')['predicted_class'].to_dict()\n",
    "model_probability_mapper = model_predictions.set_index('contig_name')['prob_1'].to_dict()\n",
    "\n",
    "df.rename(columns={'model_prediction_probabiility': 'model_prediction_probability'}, inplace=True)\n",
    "\n",
    "# Map model predictions to df\n",
    "df['model_prediction'] = df['contig_id'].map(model_prediction_mapper)\n",
    "df['model_prediction_probability'] = df['contig_id'].map(model_probability_mapper)"
   ]
  },
  {
   "cell_type": "code",
   "execution_count": 87,
   "id": "551d0cef",
   "metadata": {},
   "outputs": [],
   "source": [
    "df.to_csv('results/contigs_supp_data_20250902.csv')\n",
    "df.to_excel('results/contigs_supp_data_20250902.xlsx', index=False)"
   ]
  },
  {
   "cell_type": "markdown",
   "id": "1c82e752",
   "metadata": {},
   "source": [
    "ADD DIAMOND DATA TO CONTIGS TABLE"
   ]
  },
  {
   "cell_type": "code",
   "execution_count": 10,
   "id": "057cc16a",
   "metadata": {},
   "outputs": [],
   "source": [
    "tabela = pd.read_excel('/home/tobamo/analize/project-tobamo/analysis/data/domain_sci_input/Tobamo - tabela za tobamo kontige.xlsx')\n",
    "diamond = pd.read_csv('/home/tobamo/analize/project-tobamo/results/megan6_results_combined_add_nr_taxa.csv')"
   ]
  },
  {
   "cell_type": "code",
   "execution_count": 21,
   "id": "eac266df",
   "metadata": {},
   "outputs": [],
   "source": [
    "selected_conitgs = tabela['contig_id'].tolist()"
   ]
  },
  {
   "cell_type": "code",
   "execution_count": 19,
   "id": "93782465",
   "metadata": {},
   "outputs": [],
   "source": [
    "diamond_first_hit = diamond.drop_duplicates(subset=['qseqid'], keep='first')"
   ]
  },
  {
   "cell_type": "code",
   "execution_count": null,
   "id": "d5c0d1ed",
   "metadata": {},
   "outputs": [
    {
     "data": {
      "application/vnd.microsoft.datawrangler.viewer.v0+json": {
       "columns": [
        {
         "name": "index",
         "rawType": "int64",
         "type": "integer"
        },
        {
         "name": "qseqid",
         "rawType": "object",
         "type": "string"
        },
        {
         "name": "nr_tax",
         "rawType": "object",
         "type": "string"
        },
        {
         "name": "nr_pident",
         "rawType": "float64",
         "type": "float"
        },
        {
         "name": "nr_length",
         "rawType": "float64",
         "type": "float"
        }
       ],
       "ref": "e44c5c3e-9d4f-40a4-b5da-a264d9f159a3",
       "rows": [
        [
         "106",
         "NODE_3447_length_1836_cov_746.295340_DRR146894",
         "Viruses; Riboviria; Orthornavirae; Kitrinoviricota; Alsuviricetes; Martellivirales; Bromoviridae",
         "37.6",
         "295.0"
        ],
        [
         "171",
         "NODE_3346_length_1986_cov_333.205593_DRR146906",
         "Viruses; Riboviria",
         "36.1",
         "634.0"
        ],
        [
         "211",
         "NODE_4755_length_1547_cov_49.162869_DRR146906",
         "Viruses; Riboviria",
         "37.0",
         "497.0"
        ],
        [
         "254",
         "NODE_7104_length_1501_cov_4.732365_ERR1356733",
         "Viruses; Riboviria; Orthornavirae; Kitrinoviricota; Alsuviricetes; Martellivirales; Virgaviridae; Tobamovirus",
         "99.8",
         "430.0"
        ],
        [
         "334",
         "NODE_5816_length_1652_cov_2.914214_ERR1356733",
         "Viruses; Riboviria; Orthornavirae; Kitrinoviricota; Alsuviricetes; Martellivirales; Virgaviridae; Tobamovirus",
         "69.0",
         "551.0"
        ],
        [
         "374",
         "NODE_8049_length_1418_cov_3.901687_ERR1356733",
         "Viruses; Riboviria; Orthornavirae; Kitrinoviricota; Alsuviricetes; Martellivirales; Virgaviridae; Tobamovirus",
         "61.5",
         "265.0"
        ],
        [
         "414",
         "NODE_35549_length_688_cov_2.581359_ERR1356733",
         "Viruses; Riboviria; Orthornavirae; Kitrinoviricota; Alsuviricetes; Martellivirales; Virgaviridae; Tobamovirus",
         "77.1",
         "227.0"
        ],
        [
         "454",
         "NODE_37416_length_670_cov_3.471545_ERR1356733",
         "Viruses; Riboviria; Orthornavirae; Kitrinoviricota; Alsuviricetes; Martellivirales; Virgaviridae; Tobamovirus",
         "88.3",
         "223.0"
        ],
        [
         "494",
         "NODE_916_length_3714_cov_7.049740_ERR1356733",
         "Viruses; Riboviria; Orthornavirae; Kitrinoviricota; Alsuviricetes; Martellivirales; Virgaviridae; Tobamovirus",
         "99.9",
         "775.0"
        ],
        [
         "534",
         "NODE_7959_length_1426_cov_3.619256_ERR1356733",
         "Viruses; Riboviria; Orthornavirae; Kitrinoviricota; Alsuviricetes; Martellivirales; Virgaviridae; Tobamovirus",
         "99.8",
         "464.0"
        ],
        [
         "574",
         "NODE_15468_length_1043_cov_3.805668_ERR1356733",
         "Viruses; Riboviria; Orthornavirae; Kitrinoviricota; Alsuviricetes; Martellivirales; Virgaviridae; Tobamovirus",
         "100.0",
         "347.0"
        ],
        [
         "614",
         "NODE_15547_length_1040_cov_4.727919_ERR1356733",
         "Viruses; Riboviria; Orthornavirae; Kitrinoviricota; Alsuviricetes; Martellivirales; Virgaviridae; Tobamovirus",
         "100.0",
         "346.0"
        ],
        [
         "654",
         "NODE_18583_length_952_cov_5.671126_ERR1356733",
         "Viruses; Riboviria; Orthornavirae; Kitrinoviricota; Alsuviricetes; Martellivirales; Virgaviridae; Tobamovirus",
         "90.8",
         "163.0"
        ],
        [
         "734",
         "NODE_37074_length_673_cov_3.490291_ERR1356733",
         "Viruses; Riboviria; Orthornavirae; Kitrinoviricota; Alsuviricetes; Martellivirales; Virgaviridae; Tobamovirus",
         "100.0",
         "159.0"
        ],
        [
         "774",
         "NODE_18035_length_967_cov_1.584430_ERR1356733",
         "Viruses; Riboviria; Orthornavirae; Kitrinoviricota; Alsuviricetes; Martellivirales; Bromoviridae; Bromovirus",
         "98.1",
         "322.0"
        ],
        [
         "803",
         "NODE_45472_length_608_cov_2.251356_ERR1356733",
         "Viruses; Riboviria; Orthornavirae; Kitrinoviricota; Alsuviricetes; Martellivirales; Virgaviridae; Tobamovirus",
         "98.9",
         "187.0"
        ],
        [
         "843",
         "NODE_1266_length_3238_cov_2.636821_ERR1356733",
         "Viruses; Riboviria; Orthornavirae; Kitrinoviricota; Alsuviricetes; Martellivirales; Virgaviridae; Tobamovirus",
         "99.5",
         "801.0"
        ],
        [
         "883",
         "NODE_3072_length_2188_cov_2.218940_ERR1356733",
         "Viruses; Riboviria; Orthornavirae; Kitrinoviricota; Alsuviricetes; Martellivirales; Virgaviridae; Tobamovirus",
         "92.6",
         "729.0"
        ],
        [
         "1335",
         "NODE_1325_length_4942_cov_5.310006_ERR3010915",
         "Viruses; Riboviria; Orthornavirae; Kitrinoviricota; Alsuviricetes; Martellivirales; Virgaviridae; Tobamovirus",
         "75.5",
         "1314.0"
        ],
        [
         "1375",
         "NODE_2847_length_3470_cov_9.514788_ERR3010915",
         "Viruses; Riboviria; Orthornavirae; Kitrinoviricota; Alsuviricetes; Martellivirales; Virgaviridae; Tobamovirus",
         "99.0",
         "680.0"
        ],
        [
         "1415",
         "NODE_4225_length_2800_cov_8.537705_ERR3010915",
         "Viruses; Riboviria; Orthornavirae; Kitrinoviricota; Alsuviricetes; Martellivirales; Virgaviridae; Tobamovirus",
         "98.8",
         "924.0"
        ],
        [
         "1455",
         "NODE_24553_length_847_cov_1.733586_ERR3010915",
         "Viruses; Riboviria; Orthornavirae; Kitrinoviricota; Alsuviricetes; Martellivirales; Virgaviridae; Tobamovirus",
         "71.6",
         "282.0"
        ],
        [
         "1615",
         "NODE_323_length_705_cov_6047.968858_ERR3179625",
         "Viruses; Riboviria; Orthornavirae; Kitrinoviricota; Alsuviricetes; Martellivirales; Virgaviridae; Tobamovirus",
         "100.0",
         "89.0"
        ],
        [
         "1655",
         "NODE_82_length_1552_cov_1.965614_ERR3179625",
         "Viruses",
         "71.7",
         "459.0"
        ],
        [
         "1823",
         "NODE_14_length_5191_cov_521.552923_ERR3179625",
         "Viruses; Duplodnaviria; Heunggongvirae; Uroviricota; Caudoviricetes",
         "82.3",
         "827.0"
        ],
        [
         "1863",
         "NODE_83_length_1545_cov_832.384344_ERR3179625",
         "Viruses; Duplodnaviria; Heunggongvirae; Uroviricota; Caudoviricetes",
         "98.4",
         "128.0"
        ],
        [
         "1907",
         "NODE_1963_length_3266_cov_2.914357_SRR10030315",
         "Viruses; Riboviria; Orthornavirae; Kitrinoviricota; Alsuviricetes; Martellivirales; Virgaviridae; Tobamovirus",
         "98.3",
         "1043.0"
        ],
        [
         "1947",
         "NODE_10075_length_1985_cov_2.739896_SRR10030315",
         "Viruses; ssRNA positive-strand viruses, no DNA stage; Virgaviridae; Tobamovirus",
         "100.0",
         "413.0"
        ],
        [
         "1987",
         "NODE_22613_length_1380_cov_1.836981_SRR10030315",
         "Viruses; Riboviria; Orthornavirae; Kitrinoviricota; Alsuviricetes; Martellivirales; Virgaviridae; Tobamovirus",
         "84.8",
         "276.0"
        ],
        [
         "2034",
         "NODE_23_length_6637_cov_8.452744_SRR10064025",
         "Viruses; Riboviria",
         "28.8",
         "1975.0"
        ],
        [
         "2074",
         "NODE_6974_length_3327_cov_4.830462_SRR10143185",
         "Viruses; Riboviria",
         "53.2",
         "310.0"
        ],
        [
         "2114",
         "NODE_14006_length_2273_cov_2.780510_SRR10143185",
         "Viruses; Riboviria",
         "30.2",
         "749.0"
        ],
        [
         "2154",
         "NODE_4811_length_4052_cov_5.863899_SRR10143187",
         "Viruses; Riboviria",
         "39.6",
         "1115.0"
        ],
        [
         "2194",
         "NODE_9608_length_2629_cov_6.756270_SRR10143187",
         "Viruses; Riboviria; Orthornavirae; Kitrinoviricota; Alsuviricetes; Martellivirales",
         "43.6",
         "663.0"
        ],
        [
         "2234",
         "NODE_23871_length_1274_cov_2.555556_SRR10143187",
         "Viruses; Riboviria; Orthornavirae; Kitrinoviricota; Alsuviricetes; Martellivirales",
         "39.7",
         "302.0"
        ],
        [
         "2274",
         "NODE_820_length_7832_cov_28.015990_SRR10143187",
         "Viruses; Riboviria",
         "27.2",
         "2589.0"
        ],
        [
         "2314",
         "NODE_6529_length_3310_cov_8.273740_SRR10255703",
         "Viruses; Riboviria; Orthornavirae; Kitrinoviricota; Alsuviricetes; Martellivirales; Bromoviridae; Cucumovirus",
         "98.3",
         "993.0"
        ],
        [
         "2342",
         "NODE_9835_length_2717_cov_4.322727_SRR10255703",
         "Viruses; Riboviria; Orthornavirae; Kitrinoviricota; Alsuviricetes; Martellivirales; Bromoviridae; Cucumovirus",
         "99.5",
         "779.0"
        ],
        [
         "2422",
         "NODE_4592_length_2159_cov_3.376081_SRR10307214",
         "Viruses; Riboviria",
         "35.5",
         "583.0"
        ],
        [
         "2502",
         "NODE_8568_length_1555_cov_3.031123_SRR10307240",
         "Viruses; Riboviria",
         "34.8",
         "514.0"
        ],
        [
         "2542",
         "NODE_18411_length_891_cov_375.998804_SRR10323722",
         "Viruses; Riboviria",
         "100.0",
         "255.0"
        ],
        [
         "2582",
         "NODE_18413_length_891_cov_255.522727_SRR10323722",
         "Viruses; Riboviria",
         "100.0",
         "296.0"
        ],
        [
         "2622",
         "NODE_26468_length_694_cov_141.517997_SRR10323722",
         "Viruses; Riboviria",
         "100.0",
         "173.0"
        ],
        [
         "2726",
         "NODE_791_length_3911_cov_3.261346_SRR10357997",
         "Viruses; Riboviria",
         "27.1",
         "1407.0"
        ],
        [
         "2766",
         "NODE_2497_length_2241_cov_11.267098_SRR10613610",
         "Eukaryota; Metazoa; Ecdysozoa; Nematoda; Chromadorea; Rhabditida; Rhabditina; Rhabditomorpha; Strongyloidea; Heligmosomidae; Nippostrongylus",
         "34.8",
         "397.0"
        ],
        [
         "2886",
         "NODE_2914_length_2084_cov_14.973592_SRR10613610",
         "Viruses; Riboviria",
         "43.7",
         "355.0"
        ],
        [
         "3092",
         "NODE_578_length_4219_cov_4.005553_SRR10861970",
         "Eukaryota; Viridiplantae; Streptophyta; Embryophyta; Tracheophyta; Spermatophyta; Magnoliopsida; eudicotyledons; Gunneridae; Pentapetalae; asterids; Ericales; Theaceae; Camellia",
         "71.4",
         "63.0"
        ],
        [
         "3160",
         "NODE_4806_length_2288_cov_12.626413_SRR10861970",
         "Viruses; Monodnaviria; Shotokuvirae; Cressdnaviricota; Repensiviricetes; Geplafuvirales; Geminiviridae",
         "51.9",
         "210.0"
        ],
        [
         "3196",
         "NODE_121_length_6025_cov_6.529085_SRR10861970",
         "Viruses; Riboviria",
         "23.6",
         "1967.0"
        ],
        [
         "3479",
         "NODE_2773_length_4038_cov_10.287974_SRR11393268",
         "Viruses; Riboviria; Orthornavirae; Kitrinoviricota; Alsuviricetes; Martellivirales; Virgaviridae",
         "39.3",
         "889.0"
        ]
       ],
       "shape": {
        "columns": 4,
        "rows": 510
       }
      },
      "text/html": [
       "<div>\n",
       "<style scoped>\n",
       "    .dataframe tbody tr th:only-of-type {\n",
       "        vertical-align: middle;\n",
       "    }\n",
       "\n",
       "    .dataframe tbody tr th {\n",
       "        vertical-align: top;\n",
       "    }\n",
       "\n",
       "    .dataframe thead th {\n",
       "        text-align: right;\n",
       "    }\n",
       "</style>\n",
       "<table border=\"1\" class=\"dataframe\">\n",
       "  <thead>\n",
       "    <tr style=\"text-align: right;\">\n",
       "      <th></th>\n",
       "      <th>qseqid</th>\n",
       "      <th>nr_tax</th>\n",
       "      <th>nr_pident</th>\n",
       "      <th>nr_length</th>\n",
       "    </tr>\n",
       "  </thead>\n",
       "  <tbody>\n",
       "    <tr>\n",
       "      <th>106</th>\n",
       "      <td>NODE_3447_length_1836_cov_746.295340_DRR146894</td>\n",
       "      <td>Viruses; Riboviria; Orthornavirae; Kitrinoviri...</td>\n",
       "      <td>37.6</td>\n",
       "      <td>295.0</td>\n",
       "    </tr>\n",
       "    <tr>\n",
       "      <th>171</th>\n",
       "      <td>NODE_3346_length_1986_cov_333.205593_DRR146906</td>\n",
       "      <td>Viruses; Riboviria</td>\n",
       "      <td>36.1</td>\n",
       "      <td>634.0</td>\n",
       "    </tr>\n",
       "    <tr>\n",
       "      <th>211</th>\n",
       "      <td>NODE_4755_length_1547_cov_49.162869_DRR146906</td>\n",
       "      <td>Viruses; Riboviria</td>\n",
       "      <td>37.0</td>\n",
       "      <td>497.0</td>\n",
       "    </tr>\n",
       "    <tr>\n",
       "      <th>254</th>\n",
       "      <td>NODE_7104_length_1501_cov_4.732365_ERR1356733</td>\n",
       "      <td>Viruses; Riboviria; Orthornavirae; Kitrinoviri...</td>\n",
       "      <td>99.8</td>\n",
       "      <td>430.0</td>\n",
       "    </tr>\n",
       "    <tr>\n",
       "      <th>334</th>\n",
       "      <td>NODE_5816_length_1652_cov_2.914214_ERR1356733</td>\n",
       "      <td>Viruses; Riboviria; Orthornavirae; Kitrinoviri...</td>\n",
       "      <td>69.0</td>\n",
       "      <td>551.0</td>\n",
       "    </tr>\n",
       "    <tr>\n",
       "      <th>...</th>\n",
       "      <td>...</td>\n",
       "      <td>...</td>\n",
       "      <td>...</td>\n",
       "      <td>...</td>\n",
       "    </tr>\n",
       "    <tr>\n",
       "      <th>127665</th>\n",
       "      <td>NODE_199_length_2867_cov_7.196416_SRR9596414</td>\n",
       "      <td>Viruses; Riboviria</td>\n",
       "      <td>37.1</td>\n",
       "      <td>881.0</td>\n",
       "    </tr>\n",
       "    <tr>\n",
       "      <th>127705</th>\n",
       "      <td>NODE_34528_length_748_cov_7.391952_SRR9596414</td>\n",
       "      <td>Viruses</td>\n",
       "      <td>68.6</td>\n",
       "      <td>239.0</td>\n",
       "    </tr>\n",
       "    <tr>\n",
       "      <th>127745</th>\n",
       "      <td>NODE_2_length_3626_cov_0.985424_SRR9665731</td>\n",
       "      <td>Viruses; Riboviria; Orthornavirae; Kitrinoviri...</td>\n",
       "      <td>99.0</td>\n",
       "      <td>1208.0</td>\n",
       "    </tr>\n",
       "    <tr>\n",
       "      <th>127785</th>\n",
       "      <td>NODE_164_length_702_cov_1.326957_SRR9665731</td>\n",
       "      <td>Viruses; Riboviria; Orthornavirae; Kitrinoviri...</td>\n",
       "      <td>99.1</td>\n",
       "      <td>215.0</td>\n",
       "    </tr>\n",
       "    <tr>\n",
       "      <th>127825</th>\n",
       "      <td>NODE_10536_length_2129_cov_1.942008_SRR9960038</td>\n",
       "      <td>Viruses; Riboviria; Orthornavirae; Kitrinoviri...</td>\n",
       "      <td>45.6</td>\n",
       "      <td>261.0</td>\n",
       "    </tr>\n",
       "  </tbody>\n",
       "</table>\n",
       "<p>510 rows × 4 columns</p>\n",
       "</div>"
      ],
      "text/plain": [
       "                                                qseqid  \\\n",
       "106     NODE_3447_length_1836_cov_746.295340_DRR146894   \n",
       "171     NODE_3346_length_1986_cov_333.205593_DRR146906   \n",
       "211      NODE_4755_length_1547_cov_49.162869_DRR146906   \n",
       "254      NODE_7104_length_1501_cov_4.732365_ERR1356733   \n",
       "334      NODE_5816_length_1652_cov_2.914214_ERR1356733   \n",
       "...                                                ...   \n",
       "127665    NODE_199_length_2867_cov_7.196416_SRR9596414   \n",
       "127705   NODE_34528_length_748_cov_7.391952_SRR9596414   \n",
       "127745      NODE_2_length_3626_cov_0.985424_SRR9665731   \n",
       "127785     NODE_164_length_702_cov_1.326957_SRR9665731   \n",
       "127825  NODE_10536_length_2129_cov_1.942008_SRR9960038   \n",
       "\n",
       "                                                   nr_tax  nr_pident  \\\n",
       "106     Viruses; Riboviria; Orthornavirae; Kitrinoviri...       37.6   \n",
       "171                                    Viruses; Riboviria       36.1   \n",
       "211                                    Viruses; Riboviria       37.0   \n",
       "254     Viruses; Riboviria; Orthornavirae; Kitrinoviri...       99.8   \n",
       "334     Viruses; Riboviria; Orthornavirae; Kitrinoviri...       69.0   \n",
       "...                                                   ...        ...   \n",
       "127665                                 Viruses; Riboviria       37.1   \n",
       "127705                                            Viruses       68.6   \n",
       "127745  Viruses; Riboviria; Orthornavirae; Kitrinoviri...       99.0   \n",
       "127785  Viruses; Riboviria; Orthornavirae; Kitrinoviri...       99.1   \n",
       "127825  Viruses; Riboviria; Orthornavirae; Kitrinoviri...       45.6   \n",
       "\n",
       "        nr_length  \n",
       "106         295.0  \n",
       "171         634.0  \n",
       "211         497.0  \n",
       "254         430.0  \n",
       "334         551.0  \n",
       "...           ...  \n",
       "127665      881.0  \n",
       "127705      239.0  \n",
       "127745     1208.0  \n",
       "127785      215.0  \n",
       "127825      261.0  \n",
       "\n",
       "[510 rows x 4 columns]"
      ]
     },
     "execution_count": 25,
     "metadata": {},
     "output_type": "execute_result"
    }
   ],
   "source": [
    "cols = ['qseqid', 'nr_tax', 'nr_pident', 'nr_length']\n",
    "filtered_diamond = diamond_first_hit[cols].copy()\n",
    "filtered_diamond['qseqid'] = filtered_diamond['qseqid'].str.replace('=', '_')\n",
    "filtered_diamond = filtered_diamond[filtered_diamond['qseqid'].isin(selected_conitgs)]\n",
    "filtered_diamond"
   ]
  },
  {
   "cell_type": "code",
   "execution_count": 41,
   "id": "b81075da",
   "metadata": {},
   "outputs": [],
   "source": [
    "tabela = tabela.drop(0)"
   ]
  },
  {
   "cell_type": "code",
   "execution_count": 44,
   "id": "6d38be28",
   "metadata": {},
   "outputs": [],
   "source": [
    "# Create mapping dictionaries from filtered_diamond\n",
    "diamond_tax_mapper = filtered_diamond.set_index('qseqid')['nr_tax'].to_dict()\n",
    "diamond_pident_mapper = filtered_diamond.set_index('qseqid')['nr_pident'].to_dict()\n",
    "diamond_length_mapper = filtered_diamond.set_index('qseqid')['nr_length'].to_dict()\n",
    "\n",
    "# Map diamond data to tabela using contig_id\n",
    "tabela['first_diamond_blastx_hit_name'] = tabela['contig_id'].map(diamond_tax_mapper)\n",
    "tabela['first_diamond_blastx_hit_identity_percent'] = tabela['contig_id'].map(diamond_pident_mapper)\n",
    "tabela['first_diamond_blastx_hit_alignment_length'] = tabela['contig_id'].map(diamond_length_mapper)\n",
    "\n",
    "tabela['first_diamond_blastx_hit_identity_percent'] = tabela['first_diamond_blastx_hit_identity_percent'].astype(float)\n",
    "tabela['first_diamond_blastx_hit_alignment_length'] = tabela['first_diamond_blastx_hit_alignment_length'].astype(int)\n",
    "\n",
    "# Display the updated tabela\n",
    "tabela.to_excel('results/contig_table_with_diamond_hits.xlsx', index=False)"
   ]
  }
 ],
 "metadata": {
  "kernelspec": {
   "display_name": "tobamo-model",
   "language": "python",
   "name": "python3"
  },
  "language_info": {
   "codemirror_mode": {
    "name": "ipython",
    "version": 3
   },
   "file_extension": ".py",
   "mimetype": "text/x-python",
   "name": "python",
   "nbconvert_exporter": "python",
   "pygments_lexer": "ipython3",
   "version": "3.10.15"
  }
 },
 "nbformat": 4,
 "nbformat_minor": 5
}
