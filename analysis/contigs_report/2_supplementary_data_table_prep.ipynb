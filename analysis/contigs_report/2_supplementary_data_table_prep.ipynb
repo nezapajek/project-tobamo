{
 "cells": [
  {
   "cell_type": "code",
   "execution_count": 92,
   "id": "acaea196",
   "metadata": {},
   "outputs": [],
   "source": [
    "from utils import *\n",
    "from pysradb.sraweb import SRAweb"
   ]
  },
  {
   "cell_type": "markdown",
   "id": "68653eec",
   "metadata": {},
   "source": [
    "todo: change paths to relative ones in project-tobamo"
   ]
  },
  {
   "cell_type": "code",
   "execution_count": 93,
   "id": "1b67411f",
   "metadata": {},
   "outputs": [],
   "source": [
    "# import data\n",
    "non_celular_path = '/home/tobamo/analize/model-tobamo/data/snakemake_output/test_contigs_2024-04-09_non_cellular.fasta'\n",
    "gt = pd.read_excel('/home/tobamo/analize/model-tobamo/notebooks/MODEL4/data/ground_truth_20250630.xlsx')\n",
    "template_cols = pd.read_excel('/home/tobamo/analize/model-tobamo/notebooks/MODEL4/data/Tobamo - tabela za tobamo kontige - kategorije.xlsx').columns\n",
    "sra_metadata_template_cols = pd.read_excel('/home/tobamo/analize/model-tobamo/notebooks/MODEL4/data/mapping_sra_metadata.xlsx')\n",
    "\n",
    "# SRRs to remove (after manual curation on 4.7.2025 (WA correpondence)) due to replicated uploads of same studies (Panonychus citri (SRP187337, SRP188804) in pa VIZIONS (ERP108694, ERP006046))\n",
    "SRRs_to_remove = ['ERR2737479', 'SRR8749694', 'SRR8749695', 'SRR8749695', 'SRR8749693']\n",
    "\n",
    "# Create an empty DataFrame with the template columns\n",
    "df = pd.DataFrame(columns=template_cols)\n",
    "\n",
    "# parse fasta\n",
    "records = list(SeqIO.parse(non_celular_path, 'fasta'))\n",
    "\n",
    "# strip headers\n",
    "gt.columns = gt.columns.str.strip()\n",
    "\n",
    "# filter records based on ground truth\n",
    "contig_names = gt.contig_name.unique()\n",
    "records = [r for r in records if r.id in contig_names]"
   ]
  },
  {
   "cell_type": "code",
   "execution_count": 94,
   "id": "6e0203b0",
   "metadata": {},
   "outputs": [],
   "source": [
    "# start filling df columns\n",
    "df['contig_id'] = [rec.id for rec in records]\n",
    "df['sequence'] = [str(rec.seq) for rec in records]\n",
    "df['corresponding_srr'] = df['contig_id'].str.split('_').str[-1]\n",
    "\n",
    "# remove SRRs that are in the SRRs_to_remove list\n",
    "df = df.copy()\n",
    "df = df[~df['corresponding_srr'].isin(SRRs_to_remove)]\n",
    "\n",
    "df['assembler'] = np.where(df['contig_id'].str.contains('NODE'), 'spades', 'megahit')\n",
    "df['contig_length'] = [len(seq) for seq in df['sequence']]\n",
    "\n",
    "# make mapper, add ground truth category\n",
    "gt_category_mapper = gt.set_index('contig_name')['category'].to_dict()\n",
    "df['ground_truth_category'] = df['contig_id'].map(gt_category_mapper)\n",
    "\n",
    "df['known_or_potentially_novel_tobamovirus'] = np.where(df['ground_truth_category'].isin([1,2,8]), True, False)"
   ]
  },
  {
   "cell_type": "markdown",
   "id": "830419f4",
   "metadata": {},
   "source": [
    "import SRA metadata"
   ]
  },
  {
   "cell_type": "code",
   "execution_count": 96,
   "id": "356ce5c6",
   "metadata": {},
   "outputs": [],
   "source": [
    "## RUN ONLY ONCE\n",
    "# # Get unique SRR values\n",
    "# srr_list = df['Corresponding SRR'].unique().tolist()\n",
    "\n",
    "# # Initialize SRAweb\n",
    "# db = SRAweb()\n",
    "\n",
    "# # Fetch metadata for all SRRs\n",
    "# metadata = db.sra_metadata(srr_list, detailed=True)\n",
    "\n",
    "# # save\n",
    "# metadata.to_csv('results/sra_metadata.csv', index=False)"
   ]
  },
  {
   "cell_type": "code",
   "execution_count": 97,
   "id": "7904c757",
   "metadata": {},
   "outputs": [],
   "source": [
    "# import metadata\n",
    "metadata = pd.read_csv('results/sra_metadata.csv')"
   ]
  },
  {
   "cell_type": "markdown",
   "id": "b8eaf5af",
   "metadata": {},
   "source": [
    "select columns for parsing"
   ]
  },
  {
   "cell_type": "code",
   "execution_count": 98,
   "id": "467497d2",
   "metadata": {},
   "outputs": [],
   "source": [
    "# create sra_metadata_columnames_mapper\n",
    "sra_mapper = sra_metadata_template_cols.dropna().set_index('run_accession')['corresponding_srr'].to_dict()\n",
    "\n",
    "# keep selected columns\n",
    "metadata_sub = metadata[['run_accession', 'study_accession', 'study_title', 'organism_name', 'collection_date', 'geo_loc_name', 'insdc center name']].drop_duplicates()\n",
    "metadata_sub.rename(columns={'run_accession': 'corresponding_srr'}, inplace=True)"
   ]
  },
  {
   "cell_type": "code",
   "execution_count": 100,
   "id": "83a14842",
   "metadata": {},
   "outputs": [],
   "source": [
    "# Create mapping dictionaries for each metadata column\n",
    "col_map = {\n",
    "    'collection_date': dict(zip(metadata_sub['corresponding_srr'], metadata_sub['collection_date'])),\n",
    "    'study_accession': dict(zip(metadata_sub['corresponding_srr'], metadata_sub['study_accession'])),\n",
    "    'study_title': dict(zip(metadata_sub['corresponding_srr'], metadata_sub['study_title'])),\n",
    "    'organism_name': dict(zip(metadata_sub['corresponding_srr'], metadata_sub['organism_name'])),\n",
    "    'country': dict(zip(metadata_sub['corresponding_srr'], metadata_sub['geo_loc_name'])), \n",
    "    'submitter': dict(zip(metadata_sub['corresponding_srr'], metadata_sub['insdc center name'])),\n",
    "}\n",
    "\n",
    "# Map each metadata column to df using the corresponding_srr\n",
    "for col, mapper in col_map.items():\n",
    "    df[col] = df['corresponding_srr'].map(mapper)"
   ]
  },
  {
   "cell_type": "code",
   "execution_count": 101,
   "id": "825e7831",
   "metadata": {},
   "outputs": [],
   "source": [
    "date = datetime.now().strftime('%Y-%m-%d')\n",
    "df.to_csv(f'results/{date}_tobamo_novel_contigs_table.csv', index=False)"
   ]
  },
  {
   "cell_type": "code",
   "execution_count": 57,
   "id": "868edfaf",
   "metadata": {},
   "outputs": [],
   "source": [
    "date = '2025-07-07'\n",
    "df = pd.read_csv(f'results/{date}_tobamo_novel_contigs_table.csv')"
   ]
  }
 ],
 "metadata": {
  "kernelspec": {
   "display_name": "tobamo-model",
   "language": "python",
   "name": "python3"
  },
  "language_info": {
   "codemirror_mode": {
    "name": "ipython",
    "version": 3
   },
   "file_extension": ".py",
   "mimetype": "text/x-python",
   "name": "python",
   "nbconvert_exporter": "python",
   "pygments_lexer": "ipython3",
   "version": "3.10.15"
  }
 },
 "nbformat": 4,
 "nbformat_minor": 5
}
