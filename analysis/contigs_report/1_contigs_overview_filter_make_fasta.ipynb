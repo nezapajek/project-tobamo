{
 "cells": [
  {
   "cell_type": "markdown",
   "id": "c6d069ec",
   "metadata": {},
   "source": [
    "#### steps overview:\n",
    "0. import packages and data (Snakemake final output table)\n",
    "1. remove control SRRs (keep only selected 253 SRRs (config/samples_test.tsv))\n",
    "2. check for duplicated contigs (same study, different SRA entries), keep only one copy (with better metadata)\n",
    "3. remove cellular organisms as per megan taxonomy\n",
    "4. check numbers\n",
    "5. make fasta files"
   ]
  },
  {
   "cell_type": "code",
   "execution_count": 1,
   "id": "424853b3",
   "metadata": {},
   "outputs": [],
   "source": [
    "# import packages\n",
    "import pandas as pd\n",
    "import os"
   ]
  },
  {
   "cell_type": "code",
   "execution_count": 2,
   "id": "e511721a",
   "metadata": {},
   "outputs": [],
   "source": [
    "# import Snakemake final output\n",
    "df = pd.read_csv('/home/tobamo/analize/project-tobamo/results/megan6_results_combined.csv', index_col=0)\n",
    "# import selected samples list\n",
    "samples_path = '/home/tobamo/analize/project-tobamo/config/samples_test.tsv' #253 selected SRRs\n",
    "with open(samples_path) as file: samples = [line.strip() for line in file.readlines()][1:]"
   ]
  },
  {
   "cell_type": "markdown",
   "id": "1b219c5b",
   "metadata": {},
   "source": [
    "1. remove control SRRs"
   ]
  },
  {
   "cell_type": "code",
   "execution_count": 3,
   "id": "30ec8609",
   "metadata": {},
   "outputs": [],
   "source": [
    "# remove control contigs, keep only selected samples\n",
    "test_results = df[df['SRR'].isin(samples)] # filter the main DataFrame"
   ]
  },
  {
   "cell_type": "markdown",
   "id": "1633567d",
   "metadata": {},
   "source": [
    "2. check for duplicated contigs (same study, different SRA entries), keep only one copy (with better metadata)"
   ]
  },
  {
   "cell_type": "code",
   "execution_count": 1,
   "id": "0c687de9",
   "metadata": {},
   "outputs": [
    {
     "ename": "NameError",
     "evalue": "name 'test_results' is not defined",
     "output_type": "error",
     "traceback": [
      "\u001b[0;31m---------------------------------------------------------------------------\u001b[0m",
      "\u001b[0;31mNameError\u001b[0m                                 Traceback (most recent call last)",
      "Cell \u001b[0;32mIn[1], line 2\u001b[0m\n\u001b[1;32m      1\u001b[0m \u001b[38;5;66;03m# Group by sequence and collect unique qseqid values for each sequence\u001b[39;00m\n\u001b[0;32m----> 2\u001b[0m seq_to_qseqid \u001b[38;5;241m=\u001b[39m \u001b[43mtest_results\u001b[49m\u001b[38;5;241m.\u001b[39mgroupby(\u001b[38;5;124m'\u001b[39m\u001b[38;5;124msequence\u001b[39m\u001b[38;5;124m'\u001b[39m)[\u001b[38;5;124m'\u001b[39m\u001b[38;5;124mqseqid\u001b[39m\u001b[38;5;124m'\u001b[39m]\u001b[38;5;241m.\u001b[39munique()\n\u001b[1;32m      4\u001b[0m \u001b[38;5;66;03m# Find sequences that are associated with more than one unique qseqid\u001b[39;00m\n\u001b[1;32m      5\u001b[0m duplicated_seqs \u001b[38;5;241m=\u001b[39m seq_to_qseqid[seq_to_qseqid\u001b[38;5;241m.\u001b[39mapply(\u001b[38;5;28mlen\u001b[39m) \u001b[38;5;241m>\u001b[39m \u001b[38;5;241m1\u001b[39m]\n",
      "\u001b[0;31mNameError\u001b[0m: name 'test_results' is not defined"
     ]
    }
   ],
   "source": [
    "# Group by sequence and collect unique qseqid values for each sequence\n",
    "seq_to_qseqid = test_results.groupby('sequence')['qseqid'].unique()\n",
    "\n",
    "# Find sequences that are associated with more than one unique qseqid\n",
    "duplicated_seqs = seq_to_qseqid[seq_to_qseqid.apply(len) > 1]\n",
    "\n",
    "# Get all qseqid values involved in duplicated sequences\n",
    "duplicated_qseqids = set(qseqid for qseqids in duplicated_seqs for qseqid in qseqids)\n",
    "\n",
    "# Print the results\n",
    "print(f\"Number of sequences shared by multiple qseqid: {len(duplicated_seqs)}\")\n",
    "print(f\"Number of qseqid involved: {len(duplicated_qseqids)}\")\n",
    "print(\"qseqid involved in duplicated sequences:\")\n",
    "print(duplicated_qseqids)\n",
    "print('SRRs with duplicated qseqids:')\n",
    "srr_list = test_results[test_results['qseqid'].isin(duplicated_qseqids)]['SRR'].unique()\n",
    "print(srr_list)"
   ]
  },
  {
   "cell_type": "markdown",
   "id": "6d62289d",
   "metadata": {},
   "source": [
    "! manual inspection (look it up online or get metadata from SRAweb) "
   ]
  },
  {
   "cell_type": "code",
   "execution_count": null,
   "id": "525e0f44",
   "metadata": {},
   "outputs": [],
   "source": [
    "# Get unique SRR values\n",
    "srr_list = df['Corresponding SRR'].unique().tolist()\n",
    "\n",
    "# Initialize SRAweb\n",
    "db = SRAweb()\n",
    "\n",
    "# Fetch metadata for all SRRs\n",
    "metadata = db.sra_metadata(srr_list, detailed=True)"
   ]
  },
  {
   "cell_type": "code",
   "execution_count": 21,
   "id": "08e6c49a",
   "metadata": {},
   "outputs": [],
   "source": [
    "# after manual metadata inspection, remove duplicated SRRs (same study, different SRA entries), keep only one copy (with better metadata)\n",
    "SRRs_to_remove = ['ERR2737479', 'SRR8749694', 'SRR8749695', 'SRR8749695', 'SRR8749693', 'SRR5087405', 'SRR6233765']\n",
    "\n",
    "# remove SRRs\n",
    "test_results_deduplicated = test_results[~test_results['SRR'].isin(SRRs_to_remove)]"
   ]
  },
  {
   "cell_type": "markdown",
   "id": "1fb44c9d",
   "metadata": {},
   "source": [
    "3. remove cellular organisms as per megan taxonomy"
   ]
  },
  {
   "cell_type": "code",
   "execution_count": 22,
   "id": "ccdb9e1e",
   "metadata": {},
   "outputs": [],
   "source": [
    "# check how many contigs have 'cellular' in megan taxonomy\n",
    "test_results_non_cellular = test_results_deduplicated[~test_results_deduplicated['megan_tax'].str.contains('cellular')]\n",
    "test_results_cellular = test_results_deduplicated[test_results_deduplicated['megan_tax'].str.contains('cellular')]"
   ]
  },
  {
   "cell_type": "markdown",
   "id": "84c311a4",
   "metadata": {},
   "source": [
    "4. Remove problematic SRR6846476"
   ]
  },
  {
   "cell_type": "code",
   "execution_count": 23,
   "id": "2401ec92",
   "metadata": {},
   "outputs": [],
   "source": [
    "# remove problematic Singapore contigs from SRR6846476\n",
    "test_results_non_cellular_filtered = test_results_non_cellular[~(test_results_non_cellular['SRR'] == 'SRR6846476')]"
   ]
  },
  {
   "cell_type": "markdown",
   "id": "24eeed56",
   "metadata": {},
   "source": [
    "check numbers"
   ]
  },
  {
   "cell_type": "code",
   "execution_count": 24,
   "id": "59faf999",
   "metadata": {},
   "outputs": [
    {
     "name": "stdout",
     "output_type": "stream",
     "text": [
      "Contig counts report:\n",
      "1. All contigs: 3406\n",
      "2. After removing control SRRs: 2567\n",
      "3. After removing duplicated SRRs: 2549\n",
      "4A. Non-cellular contigs: 2383\n",
      "4B. Cellular contigs: 166\n",
      "5. Non-cellular without problematic SRR6846476: 510\n"
     ]
    }
   ],
   "source": [
    "print(\"Contig counts report:\")\n",
    "print(f\"1. All contigs: {df.qseqid.nunique()}\")\n",
    "print(f\"2. After removing control SRRs: {test_results.qseqid.nunique()}\")\n",
    "print(f\"3. After removing duplicated SRRs: {test_results_deduplicated.qseqid.nunique()}\")\n",
    "print(f\"4A. Non-cellular contigs: {test_results_non_cellular.qseqid.nunique()}\")\n",
    "print(f\"4B. Cellular contigs: {test_results_cellular.qseqid.nunique()}\")\n",
    "print(f\"5. Non-cellular without problematic SRR6846476: {test_results_non_cellular_filtered.qseqid.nunique()}\")"
   ]
  },
  {
   "cell_type": "code",
   "execution_count": 25,
   "id": "93f9b58a",
   "metadata": {},
   "outputs": [
    {
     "data": {
      "text/plain": [
       "510"
      ]
     },
     "execution_count": 25,
     "metadata": {},
     "output_type": "execute_result"
    }
   ],
   "source": [
    "test_results_non_cellular_filtered.qseqid.nunique()"
   ]
  },
  {
   "cell_type": "markdown",
   "id": "d7815a79",
   "metadata": {},
   "source": [
    "5. make fasta files and .csv"
   ]
  },
  {
   "cell_type": "code",
   "execution_count": 26,
   "id": "2e4f7d90",
   "metadata": {},
   "outputs": [],
   "source": [
    "# make a dict from from qseqid and sequence\n",
    "contigs_all = dict(df.filter(['qseqid', 'sequence']).values) # all contigs\n",
    "contigs_all_test = dict(test_results.filter(['qseqid', 'sequence']).values) # test contigs (removed control SRRs)\n",
    "contigs_all_deduplicated = dict(test_results_deduplicated.filter(['qseqid', 'sequence']).values) # deduplicated contigs\n",
    "contigs_non_cellular = dict(test_results_non_cellular.filter(['qseqid', 'sequence']).values) # non-cellular contigs\n",
    "contigs_non_cellular_filtered = dict(test_results_non_cellular_filtered.filter(['qseqid', 'sequence']).values) # non-cellular without problematic SRR6846476"
   ]
  },
  {
   "cell_type": "code",
   "execution_count": 27,
   "id": "d3885363",
   "metadata": {},
   "outputs": [],
   "source": [
    "# define function for writing fasta from a dictionary\n",
    "def write_fasta(seq_dict, output_file):\n",
    "    with open(output_file, 'w') as o:\n",
    "        for key, val in seq_dict.items():\n",
    "            o.write('>' + key + '\\n')\n",
    "            o.write(val + '\\n')\n",
    "    return output_file "
   ]
  },
  {
   "cell_type": "code",
   "execution_count": 30,
   "id": "a26c2637",
   "metadata": {},
   "outputs": [
    {
     "name": "stdout",
     "output_type": "stream",
     "text": [
      "Wrote ../data/contigs/contigs_all.fasta\n",
      "Wrote ../data/contigs/contigs_all_test.fasta\n",
      "Wrote ../data/contigs/contigs_all_deduplicated.fasta\n",
      "Wrote ../data/contigs/contigs_non_cellular.fasta\n",
      "Wrote ../data/contigs/contigs_non_cellular_filtered.fasta\n"
     ]
    }
   ],
   "source": [
    "# make fasta files, skip if file already exists\n",
    "path = '../data/contigs/'\n",
    "\n",
    "for seq_dict, output_file in [\n",
    "    (contigs_all, f'{path}contigs_all.fasta'),\n",
    "    (contigs_all_test, f'{path}contigs_all_test.fasta'),\n",
    "    (contigs_all_deduplicated, f'{path}contigs_all_deduplicated.fasta'),\n",
    "    (contigs_non_cellular, f'{path}contigs_non_cellular.fasta'),\n",
    "    (contigs_non_cellular_filtered, f'{path}contigs_non_cellular_filtered.fasta'),\n",
    "]:\n",
    "    write_fasta(seq_dict, output_file)\n",
    "    print(f\"Wrote {output_file}\")"
   ]
  }
 ],
 "metadata": {
  "kernelspec": {
   "display_name": "tobamo-model",
   "language": "python",
   "name": "python3"
  },
  "language_info": {
   "codemirror_mode": {
    "name": "ipython",
    "version": 3
   },
   "file_extension": ".py",
   "mimetype": "text/x-python",
   "name": "python",
   "nbconvert_exporter": "python",
   "pygments_lexer": "ipython3",
   "version": "3.10.15"
  }
 },
 "nbformat": 4,
 "nbformat_minor": 5
}
