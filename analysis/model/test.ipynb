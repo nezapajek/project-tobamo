{
 "cells": [
  {
   "cell_type": "code",
   "execution_count": 6,
   "metadata": {},
   "outputs": [],
   "source": [
    "from utils_v10 import *"
   ]
  },
  {
   "cell_type": "code",
   "execution_count": 7,
   "metadata": {},
   "outputs": [],
   "source": [
    "input_df = pd.read_csv('/home/tobamo/analize/model-tobamo/notebooks/ver10/results/training/test_input_df.csv')"
   ]
  },
  {
   "cell_type": "code",
   "execution_count": 8,
   "metadata": {},
   "outputs": [],
   "source": [
    "def add_info_to_training_input_df(\n",
    "    input_df, inv_nt_species2id_path: str, inv_type_acc_dict_path: str, orf_fasta_path: str\n",
    "):\n",
    "\n",
    "    if \"contig_name\" not in input_df.columns:\n",
    "        input_df[\"contig_name\"] = input_df[\"orf_name\"].str.extract(r\"(.*)(?:_ORF\\.\\d+|_aa_frame\\d+)\")\n",
    "    else:\n",
    "        input_df[\"nt_id\"] = input_df[\"orf_name\"].str.extract(r\"(.*)_start\")\n",
    "\n",
    "    # add species info\n",
    "    inv_nt_species2id = mpu.io.read(inv_nt_species2id_path)\n",
    "    input_df[\"species\"] = input_df[\"nt_id\"].map({k: v[0] for k, v in inv_nt_species2id.items()})\n",
    "\n",
    "    # add orf_type info\n",
    "    inv_type_acc_dict = mpu.io.read(inv_type_acc_dict_path)\n",
    "    input_df[\"orf_type\"] = input_df[\"nt_id\"].map({k: v[0] for k, v in inv_type_acc_dict.items()})\n",
    "\n",
    "    # add strand orientation info\n",
    "    with open(orf_fasta_path, \"r\") as file:\n",
    "        orf_dict = {\n",
    "            record.description.split()[0]: \"REVERSE\" if \"(-)\" in record.description else \"FORWARD\"\n",
    "            for record in SeqIO.parse(file, \"fasta\")\n",
    "        }\n",
    "    input_df[\"strand\"] = input_df[\"orf_name\"].map(orf_dict)\n",
    "\n",
    "    return input_df"
   ]
  },
  {
   "cell_type": "code",
   "execution_count": 9,
   "metadata": {},
   "outputs": [],
   "source": [
    "inv_nt_species2id_path = \"data/inv_nt_dict.json\"\n",
    "inv_type_acc_dict_path = \"data/inv_type_acc_dict.json\"\n",
    "orf_fasta_path = \"results/training/orfs/combined_orfs.fasta\"\n",
    "\n",
    "df = add_info_to_training_input_df(input_df,inv_nt_species2id_path, inv_type_acc_dict_path, orf_fasta_path)"
   ]
  },
  {
   "cell_type": "code",
   "execution_count": 10,
   "metadata": {},
   "outputs": [],
   "source": [
    "# df.to_csv('results/training/test_input_df_with_info.csv', index=False)"
   ]
  },
  {
   "cell_type": "code",
   "execution_count": 11,
   "metadata": {},
   "outputs": [],
   "source": [
    "dd = pd.read_csv('/home/tobamo/analize/model-tobamo/notebooks/ver10/results/training/model/model_results.csv')"
   ]
  },
  {
   "cell_type": "code",
   "execution_count": 12,
   "metadata": {},
   "outputs": [],
   "source": [
    "import ast\n",
    "def process_df(df, input_df):\n",
    "    df['orf_name'] = df['orf_name'].apply(lambda x: ast.literal_eval(x) if isinstance(x, str) else x)\n",
    "    df['ground_truth'] = df['ground_truth'].apply(lambda x: ast.literal_eval(x) if isinstance(x, str) else x)\n",
    "    df['prediction'] = df['prediction'].apply(lambda x: ast.literal_eval(x) if isinstance(x, str) else x)\n",
    "    df['probability'] = df['probability'].apply(lambda x: ast.literal_eval(x) if isinstance(x, str) else x)\n",
    "    columns_to_explode = ['orf_name', 'ground_truth', 'prediction', 'probability']\n",
    "    res_df = df.explode(columns_to_explode).reset_index(drop=True)\n",
    "    res_df['true_positive'] = (res_df['ground_truth'] == 1) & (res_df['prediction'] == 1)\n",
    "    res_df['false_positive'] = (res_df['ground_truth'] == 0) & (res_df['prediction'] == 1)\n",
    "    res_df['true_negative'] = (res_df['ground_truth'] == 0) & (res_df['prediction'] == 0)\n",
    "    res_df['false_negative'] = (res_df['ground_truth'] == 1) & (res_df['prediction'] == 0)\n",
    "\n",
    "    res_df['prob_0'] = res_df['probability'].apply(lambda x: x[0])\n",
    "    res_df['prob_1'] = res_df['probability'].apply(lambda x: x[1])\n",
    "    res_df['max_prob'] = res_df[['prob_0', 'prob_1']].max(axis=1)\n",
    "\n",
    "    res_df = res_df.copy()\n",
    "    res_df.loc[:, 'match'] = res_df['ground_truth'] == res_df['prediction']\n",
    "\n",
    "    if input_df.index.name != \"orf_name\":\n",
    "        input_df = input_df.set_index(\"orf_name\")\n",
    "    orf_orientation_mapper = input_df['strand'].to_dict()\n",
    "    res_df['strand'] = res_df['orf_name'].map(orf_orientation_mapper)\n",
    "    \n",
    "    contig_length_mapper = input_df['contig_length'].to_dict()\n",
    "    res_df['contig_length'] = res_df['orf_name'].map(contig_length_mapper)\n",
    "\n",
    "    confusion_matrix= res_df[\n",
    "        ['true_positive', 'true_negative', 'false_positive', 'false_negative']\n",
    "    ].sum()\n",
    "    \n",
    "    return res_df, confusion_matrix\n",
    "\n",
    "def select_best_orf(res_df):\n",
    "    res_df['best_orf'] = res_df.groupby('contig')['max_prob'].transform(lambda x: x == x.max()).astype(int)\n",
    "    res_df = res_df[res_df['best_orf'] == 1]\n",
    "    res_df = res_df.copy()\n",
    "    res_df['rank'] = res_df.groupby('contig')['max_prob'].rank(method='first', ascending=False)\n",
    "    res_df = res_df[res_df['rank'] == 1]\n",
    "    return res_df"
   ]
  },
  {
   "cell_type": "code",
   "execution_count": 13,
   "metadata": {},
   "outputs": [],
   "source": [
    "res_df, confusion_matrix = process_df(dd, df)\n",
    "best = select_best_orf(res_df)"
   ]
  },
  {
   "cell_type": "code",
   "execution_count": 14,
   "metadata": {},
   "outputs": [
    {
     "data": {
      "text/plain": [
       "true_positive     1350\n",
       "true_negative     1075\n",
       "false_positive       0\n",
       "false_negative       0\n",
       "dtype: int64"
      ]
     },
     "execution_count": 14,
     "metadata": {},
     "output_type": "execute_result"
    }
   ],
   "source": [
    "cm= best[\n",
    "    ['true_positive', 'true_negative', 'false_positive', 'false_negative']\n",
    "].sum()\n",
    "\n",
    "cm"
   ]
  }
 ],
 "metadata": {
  "kernelspec": {
   "display_name": "base",
   "language": "python",
   "name": "python3"
  },
  "language_info": {
   "codemirror_mode": {
    "name": "ipython",
    "version": 3
   },
   "file_extension": ".py",
   "mimetype": "text/x-python",
   "name": "python",
   "nbconvert_exporter": "python",
   "pygments_lexer": "ipython3",
   "version": "3.9.0"
  }
 },
 "nbformat": 4,
 "nbformat_minor": 2
}
