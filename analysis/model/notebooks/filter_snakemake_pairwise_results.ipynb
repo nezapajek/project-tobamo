{
 "cells": [
  {
   "cell_type": "markdown",
   "id": "33476e2b",
   "metadata": {},
   "source": [
    "# Filter Snakemake Pairwise Results\n",
    "\n",
    "This notebook filters pairwise alignment results from Snakemake workflow based on different contig datasets:\n",
    "1. **All deduplicated contigs**: The complete set of deduplicated contigs\n",
    "2. **Non-cellular filtered contigs**: Contigs that have been filtered to remove cellular contamination\n",
    "\n",
    "The goal is to create a filtered dataset that only includes pairwise alignments for contigs that passed the non-cellular filtering step."
   ]
  },
  {
   "cell_type": "code",
   "execution_count": null,
   "id": "33e7557c",
   "metadata": {},
   "outputs": [],
   "source": [
    "import sys\n",
    "sys.path.append('../scripts')\n",
    "from utils import *"
   ]
  },
  {
   "cell_type": "markdown",
   "id": "4001fec1",
   "metadata": {},
   "source": [
    "## Step 1: Load and Analyze All Deduplicated Pairwise Alignments\n",
    "\n",
    "First, we load the complete pairwise alignment results from Snakemake and extract unique SRR identifiers."
   ]
  },
  {
   "cell_type": "code",
   "execution_count": null,
   "id": "2049c60d",
   "metadata": {},
   "outputs": [
    {
     "data": {
      "text/plain": [
       "139"
      ]
     },
     "execution_count": 8,
     "metadata": {},
     "output_type": "execute_result"
    }
   ],
   "source": [
    "# Load the pairwise alignment results from Snakemake workflow\n",
    "# This CSV contains alignment results for all deduplicated contigs\n",
    "pairwise_aln_all_deduplicated = pd.read_csv('/home/tobamo/analize/project-tobamo/analysis/model/results/snakemake/testing_input.csv')\n",
    "\n",
    "# Extract SRR identifiers from contig names using regex\n",
    "# Contig names typically end with \"_SRR123456\" format\n",
    "pairwise_aln_all_deduplicated['SRR'] = pairwise_aln_all_deduplicated['contig_name'].str.extract(r\"_([A-Za-z0-9]+)$\")\n",
    "\n",
    "# Count unique SRR identifiers in the pairwise alignment data\n",
    "pairwise_aln_all_deduplicated.SRR.nunique()"
   ]
  },
  {
   "cell_type": "code",
   "execution_count": null,
   "id": "89981ddf",
   "metadata": {},
   "outputs": [
    {
     "data": {
      "text/plain": [
       "(2549, 139)"
      ]
     },
     "execution_count": 6,
     "metadata": {},
     "output_type": "execute_result"
    }
   ],
   "source": [
    "# Parse the deduplicated contigs FASTA file to get all sequence IDs\n",
    "all_deduplicated_ids = [seq.id for seq in SeqIO.parse('/home/tobamo/analize/project-tobamo/analysis/data/contigs/contigs_all_deduplicated.fasta', 'fasta')]\n",
    "\n",
    "# Extract unique SRR identifiers from the FASTA sequence IDs\n",
    "all_deduplicated_srrs = pd.Series(all_deduplicated_ids).str.extract(r\"_([A-Za-z0-9]+)$\")[0].unique()\n",
    "\n",
    "# Display the total number of contigs and unique SRR samples in the deduplicated dataset\n",
    "len(all_deduplicated_ids), len(all_deduplicated_srrs)"
   ]
  },
  {
   "cell_type": "markdown",
   "id": "2eb45636",
   "metadata": {},
   "source": [
    "## Step 2: Analyze Non-Cellular Filtered Contigs\n",
    "\n",
    "Now we load the contigs that have been filtered to remove cellular contamination and compare with the pairwise alignment data."
   ]
  },
  {
   "cell_type": "code",
   "execution_count": null,
   "id": "d15276b5",
   "metadata": {},
   "outputs": [
    {
     "data": {
      "text/plain": [
       "(510, 131)"
      ]
     },
     "execution_count": 23,
     "metadata": {},
     "output_type": "execute_result"
    }
   ],
   "source": [
    "# Parse the non-cellular filtered contigs FASTA file\n",
    "# Replace '=' with '_' in sequence IDs for consistency (some FASTA files may have '=' characters)\n",
    "all_non_cellular_filtered_ids = [seq.id.replace('=','_') for seq in SeqIO.parse('/home/tobamo/analize/project-tobamo/analysis/data/contigs/contigs_non_cellular_filtered.fasta', 'fasta')]\n",
    "\n",
    "# Extract unique SRR identifiers from the filtered contig IDs\n",
    "all_non_cellular_filtered_srrs = pd.Series(all_non_cellular_filtered_ids).str.extract(r\"_([A-Za-z0-9]+)$\")[0].unique()\n",
    "\n",
    "# Display the total number of filtered contigs and unique SRR samples\n",
    "len(all_non_cellular_filtered_ids), len(all_non_cellular_filtered_srrs)"
   ]
  },
  {
   "cell_type": "markdown",
   "id": "1f76cd7a",
   "metadata": {},
   "source": [
    "## Step 3: Filter Pairwise Alignments\n",
    "\n",
    "Filter the pairwise alignment results to only include contigs that passed the non-cellular filtering step."
   ]
  },
  {
   "cell_type": "code",
   "execution_count": null,
   "id": "98f87cfc",
   "metadata": {},
   "outputs": [
    {
     "data": {
      "text/plain": [
       "510"
      ]
     },
     "execution_count": 28,
     "metadata": {},
     "output_type": "execute_result"
    }
   ],
   "source": [
    "# Filter the pairwise alignment dataframe to only include contigs \n",
    "# that are present in the non-cellular filtered dataset\n",
    "# This removes alignments for contigs that were identified as cellular contamination\n",
    "non_cellular_filteted_df = pairwise_aln_all_deduplicated[pairwise_aln_all_deduplicated.contig_name.isin(all_non_cellular_filtered_ids)]\n",
    "\n",
    "# Count the number of unique contigs in the filtered dataset\n",
    "non_cellular_filteted_df['contig_name'].nunique()"
   ]
  },
  {
   "cell_type": "markdown",
   "id": "c63efa34",
   "metadata": {},
   "source": [
    "## Step 4: Save Filtered Results\n",
    "\n",
    "Save the filtered pairwise alignment results to a new CSV file for downstream analysis."
   ]
  },
  {
   "cell_type": "code",
   "execution_count": null,
   "id": "f936ce1a",
   "metadata": {},
   "outputs": [],
   "source": [
    "# Save the filtered pairwise alignment results to a new CSV file\n",
    "# This file contains only alignments for contigs that passed non-cellular filtering\n",
    "# and can be used for downstream viral analysis without cellular contamination\n",
    "non_cellular_filteted_df.to_csv('/home/tobamo/analize/project-tobamo/analysis/model/results/snakemake/pairwise_aln_all_deduplicated_non_cellular_filtered.csv', index=False)"
   ]
  }
 ],
 "metadata": {
  "kernelspec": {
   "display_name": "tobamo-model",
   "language": "python",
   "name": "python3"
  },
  "language_info": {
   "codemirror_mode": {
    "name": "ipython",
    "version": 3
   },
   "file_extension": ".py",
   "mimetype": "text/x-python",
   "name": "python",
   "nbconvert_exporter": "python",
   "pygments_lexer": "ipython3",
   "version": "3.10.15"
  }
 },
 "nbformat": 4,
 "nbformat_minor": 5
}
