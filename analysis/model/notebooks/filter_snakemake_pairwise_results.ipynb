{
 "cells": [
  {
   "cell_type": "code",
   "execution_count": 1,
   "id": "33e7557c",
   "metadata": {},
   "outputs": [],
   "source": [
    "import sys\n",
    "sys.path.append('../scripts')\n",
    "from utils import *"
   ]
  },
  {
   "cell_type": "markdown",
   "id": "4001fec1",
   "metadata": {},
   "source": [
    "SNAKEMAKE ALL DEDUPLICATED"
   ]
  },
  {
   "cell_type": "code",
   "execution_count": 8,
   "id": "2049c60d",
   "metadata": {},
   "outputs": [
    {
     "data": {
      "text/plain": [
       "139"
      ]
     },
     "execution_count": 8,
     "metadata": {},
     "output_type": "execute_result"
    }
   ],
   "source": [
    "pairwise_aln_all_deduplicated = pd.read_csv('/home/tobamo/analize/project-tobamo/analysis/model/results/snakemake/testing_input.csv')\n",
    "pairwise_aln_all_deduplicated['SRR'] = pairwise_aln_all_deduplicated['contig_name'].str.extract(r\"_([A-Za-z0-9]+)$\")\n",
    "pairwise_aln_all_deduplicated.SRR.nunique()"
   ]
  },
  {
   "cell_type": "code",
   "execution_count": 6,
   "id": "89981ddf",
   "metadata": {},
   "outputs": [
    {
     "data": {
      "text/plain": [
       "(2549, 139)"
      ]
     },
     "execution_count": 6,
     "metadata": {},
     "output_type": "execute_result"
    }
   ],
   "source": [
    "all_deduplicated_ids = [seq.id for seq in SeqIO.parse('/home/tobamo/analize/project-tobamo/analysis/data/contigs/contigs_all_deduplicated.fasta', 'fasta')]\n",
    "all_deduplicated_srrs = pd.Series(all_deduplicated_ids).str.extract(r\"_([A-Za-z0-9]+)$\")[0].unique()\n",
    "len(all_deduplicated_ids),len(all_deduplicated_srrs)"
   ]
  },
  {
   "cell_type": "markdown",
   "id": "2eb45636",
   "metadata": {},
   "source": [
    "SNAKEMAKE NON CELLULAR FILTERED"
   ]
  },
  {
   "cell_type": "code",
   "execution_count": 23,
   "id": "d15276b5",
   "metadata": {},
   "outputs": [
    {
     "data": {
      "text/plain": [
       "(510, 131)"
      ]
     },
     "execution_count": 23,
     "metadata": {},
     "output_type": "execute_result"
    }
   ],
   "source": [
    "all_non_cellular_filtered_ids = [seq.id.replace('=','_') for seq in SeqIO.parse('/home/tobamo/analize/project-tobamo/analysis/data/contigs/contigs_non_cellular_filtered.fasta', 'fasta')]\n",
    "all_non_cellular_filtered_srrs = pd.Series(all_non_cellular_filtered_ids).str.extract(r\"_([A-Za-z0-9]+)$\")[0].unique()\n",
    "len(all_non_cellular_filtered_ids),len(all_non_cellular_filtered_srrs)"
   ]
  },
  {
   "cell_type": "markdown",
   "id": "1f76cd7a",
   "metadata": {},
   "source": [
    "SNAKEMAKE NON CELLULAR FILTERED"
   ]
  },
  {
   "cell_type": "code",
   "execution_count": 28,
   "id": "98f87cfc",
   "metadata": {},
   "outputs": [
    {
     "data": {
      "text/plain": [
       "510"
      ]
     },
     "execution_count": 28,
     "metadata": {},
     "output_type": "execute_result"
    }
   ],
   "source": [
    "non_cellular_filteted_df = pairwise_aln_all_deduplicated[pairwise_aln_all_deduplicated.contig_name.isin(all_non_cellular_filtered_ids)]\n",
    "non_cellular_filteted_df['contig_name'].nunique()"
   ]
  },
  {
   "cell_type": "code",
   "execution_count": 29,
   "id": "f936ce1a",
   "metadata": {},
   "outputs": [],
   "source": [
    "non_cellular_filteted_df.to_csv('/home/tobamo/analize/project-tobamo/analysis/model/results/snakemake/pairwise_aln_all_deduplicated_non_cellular_filtered.csv', index=False)"
   ]
  }
 ],
 "metadata": {
  "kernelspec": {
   "display_name": "tobamo-model",
   "language": "python",
   "name": "python3"
  },
  "language_info": {
   "codemirror_mode": {
    "name": "ipython",
    "version": 3
   },
   "file_extension": ".py",
   "mimetype": "text/x-python",
   "name": "python",
   "nbconvert_exporter": "python",
   "pygments_lexer": "ipython3",
   "version": "3.10.15"
  }
 },
 "nbformat": 4,
 "nbformat_minor": 5
}
