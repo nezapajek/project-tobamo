{
 "cells": [
  {
   "cell_type": "markdown",
   "id": "595521b3",
   "metadata": {},
   "source": [
    "# Exploratory Data Analysis\n",
    "\n",
    "This notebook is used for exploratory data analysis of the Tobamovirus classification project. It includes visualizations and statistical summaries of the data used in the model training and evaluation."
   ]
  },
  {
   "cell_type": "code",
   "execution_count": null,
   "id": "eb2c93e4",
   "metadata": {},
   "outputs": [],
   "source": [
    "# Import necessary libraries\n",
    "import pandas as pd\n",
    "import matplotlib.pyplot as plt\n",
    "import seaborn as sns\n",
    "\n",
    "# Load the training input data\n",
    "training_data = pd.read_csv('../results/training/training_input.csv')\n",
    "\n",
    "# Display the first few rows of the training data\n",
    "training_data.head()"
   ]
  },
  {
   "cell_type": "code",
   "execution_count": null,
   "id": "69ea1d82",
   "metadata": {},
   "outputs": [],
   "source": [
    "# Summary statistics of the training data\n",
    "training_data.describe()"
   ]
  },
  {
   "cell_type": "code",
   "execution_count": null,
   "id": "add16862",
   "metadata": {},
   "outputs": [],
   "source": [
    "# Visualize the distribution of a specific feature\n",
    "plt.figure(figsize=(10, 6))\n",
    "sns.histplot(training_data['feature_name'], bins=30, kde=True)\n",
    "plt.title('Distribution of Feature Name')\n",
    "plt.xlabel('Feature Name')\n",
    "plt.ylabel('Frequency')\n",
    "plt.show()"
   ]
  },
  {
   "cell_type": "code",
   "execution_count": null,
   "id": "1deaa095",
   "metadata": {},
   "outputs": [],
   "source": [
    "# Correlation heatmap\n",
    "plt.figure(figsize=(12, 8))\n",
    "correlation_matrix = training_data.corr()\n",
    "sns.heatmap(correlation_matrix, annot=True, fmt='.2f', cmap='coolwarm')\n",
    "plt.title('Correlation Heatmap')\n",
    "plt.show()"
   ]
  }
 ],
 "metadata": {
  "language_info": {
   "name": "python"
  }
 },
 "nbformat": 4,
 "nbformat_minor": 5
}
