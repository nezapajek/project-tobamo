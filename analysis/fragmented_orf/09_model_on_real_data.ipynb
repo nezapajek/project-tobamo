{
 "cells": [
  {
   "cell_type": "code",
   "execution_count": 11,
   "metadata": {},
   "outputs": [],
   "source": [
    "import pandas as pd\n",
    "import joblib"
   ]
  },
  {
   "cell_type": "code",
   "execution_count": 12,
   "metadata": {},
   "outputs": [],
   "source": [
    "df = pd.read_csv('/home/tobamo/analize/project-tobamo/analysis/fragmented_orf/results/orf_x_ref/orfipy_x_ref_orf1.csv')"
   ]
  },
  {
   "cell_type": "code",
   "execution_count": 13,
   "metadata": {},
   "outputs": [],
   "source": [
    "mod = joblib.load('results/svm/svc_model.pkl')\n",
    "scaler = joblib.load('results/svm/scaler.pkl')"
   ]
  },
  {
   "cell_type": "code",
   "execution_count": 15,
   "metadata": {},
   "outputs": [],
   "source": [
    "new_data = df\n",
    "X_new = new_data[['identity_score', 'gap_ratio', 'N/aln_len', 'M', 'N', 'aln_len', 'orf_len', 'ref_len', 'gap_openings', 'aln_orf_len']]\n",
    "\n",
    "# Scale the new data\n",
    "X_new_scaled = scaler.transform(X_new)\n",
    "\n",
    "# Make predictions\n",
    "predictions = mod.predict(X_new_scaled)"
   ]
  },
  {
   "cell_type": "code",
   "execution_count": 17,
   "metadata": {},
   "outputs": [],
   "source": [
    "df['predictions'] = predictions"
   ]
  },
  {
   "cell_type": "code",
   "execution_count": 21,
   "metadata": {},
   "outputs": [],
   "source": [
    "predict_df = df[df.predictions == 1].sort_values(by='identity_score', ascending=False)"
   ]
  },
  {
   "cell_type": "code",
   "execution_count": 22,
   "metadata": {},
   "outputs": [],
   "source": [
    "predict_df.to_csv('orf1_fragmented_predict_df.csv', index=False)"
   ]
  }
 ],
 "metadata": {
  "kernelspec": {
   "display_name": "base",
   "language": "python",
   "name": "python3"
  },
  "language_info": {
   "codemirror_mode": {
    "name": "ipython",
    "version": 3
   },
   "file_extension": ".py",
   "mimetype": "text/x-python",
   "name": "python",
   "nbconvert_exporter": "python",
   "pygments_lexer": "ipython3",
   "version": "3.9.undefined"
  }
 },
 "nbformat": 4,
 "nbformat_minor": 2
}
