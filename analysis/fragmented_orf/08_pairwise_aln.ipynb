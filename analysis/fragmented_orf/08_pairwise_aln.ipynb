{
 "cells": [
  {
   "cell_type": "code",
   "execution_count": 1,
   "metadata": {},
   "outputs": [],
   "source": [
    "from concurrent.futures import ProcessPoolExecutor\n",
    "from tqdm.auto import tqdm\n",
    "from utils import *"
   ]
  },
  {
   "cell_type": "code",
   "execution_count": 5,
   "metadata": {},
   "outputs": [],
   "source": [
    "# Define file paths\n",
    "ref_files = {\n",
    "    'cp': '/home/tobamo/analize/project-tobamo/analysis/whole_orf/data/refs_tobamo/cp.fasta',\n",
    "    'mp': '/home/tobamo/analize/project-tobamo/analysis/whole_orf/data/refs_tobamo/mp.fasta',\n",
    "    'rdrp_orf1': '/home/tobamo/analize/project-tobamo/analysis/whole_orf/data/refs_tobamo/rdrp_orf1.txt',\n",
    "    'rdrp_orf2': '/home/tobamo/analize/project-tobamo/analysis/whole_orf/data/refs_tobamo/rdrp_orf2.txt'\n",
    "}\n",
    "\n",
    "orfipy_path = '/home/tobamo/analize/project-tobamo/analysis/fragmented_orf/results/PEP'\n",
    "\n",
    "# Parse fasta files\n",
    "ref_seqs = {key: parse_fasta(file_path) for key, file_path in ref_files.items()}\n",
    "orfipy = parse_fasta(orfipy_path)"
   ]
  },
  {
   "cell_type": "code",
   "execution_count": 6,
   "metadata": {},
   "outputs": [],
   "source": [
    "rdrp_orf1_args_list = []\n",
    "\n",
    "for s1 in orfipy.values():\n",
    "    for s2 in ref_seqs['rdrp_orf1'].values():\n",
    "        rdrp_orf1_args_list.append([s1, s2])"
   ]
  },
  {
   "cell_type": "code",
   "execution_count": 7,
   "metadata": {},
   "outputs": [
    {
     "data": {
      "application/vnd.jupyter.widget-view+json": {
       "model_id": "c532fa0b888048e69e45d31e5c3ebdc6",
       "version_major": 2,
       "version_minor": 0
      },
      "text/plain": [
       "  0%|          | 0/192066 [00:00<?, ?it/s]"
      ]
     },
     "metadata": {},
     "output_type": "display_data"
    }
   ],
   "source": [
    "with ProcessPoolExecutor(max_workers=40) as executor:\n",
    "    rdrp_orf1_results = list(tqdm(executor.map(compute_identity_score_orfxref, rdrp_orf1_args_list), total=len(rdrp_orf1_args_list)))"
   ]
  },
  {
   "cell_type": "code",
   "execution_count": 10,
   "metadata": {},
   "outputs": [],
   "source": [
    "rdrp_orf1_df = df_orf_edit(rdrp_orf1_results)\n",
    "rdrp_orf1_df.to_csv('results/orf_x_ref/orfipy_x_ref_orf1.csv', index=False)"
   ]
  },
  {
   "cell_type": "markdown",
   "metadata": {},
   "source": [
    "orf2"
   ]
  },
  {
   "cell_type": "code",
   "execution_count": 11,
   "metadata": {},
   "outputs": [],
   "source": [
    "rdrp_orf2_args_list = []\n",
    "\n",
    "for s1 in orfipy.values():\n",
    "    for s2 in ref_seqs['rdrp_orf2'].values():\n",
    "        rdrp_orf2_args_list.append([s1, s2])"
   ]
  },
  {
   "cell_type": "code",
   "execution_count": 13,
   "metadata": {},
   "outputs": [
    {
     "data": {
      "application/vnd.jupyter.widget-view+json": {
       "model_id": "bf4e134babb647428daa2ab1490a8897",
       "version_major": 2,
       "version_minor": 0
      },
      "text/plain": [
       "  0%|          | 0/195832 [00:00<?, ?it/s]"
      ]
     },
     "metadata": {},
     "output_type": "display_data"
    }
   ],
   "source": [
    "with ProcessPoolExecutor(max_workers=40) as executor:\n",
    "    rdrp_orf2_results = list(tqdm(executor.map(compute_identity_score_orfxref, rdrp_orf2_args_list), total=len(rdrp_orf2_args_list)))"
   ]
  },
  {
   "cell_type": "code",
   "execution_count": 14,
   "metadata": {},
   "outputs": [],
   "source": [
    "rdrp_orf2_df = df_orf_edit(rdrp_orf2_results)\n",
    "rdrp_orf2_df.to_csv('results/orf_x_ref/orfipy_x_ref_orf2.csv', index=False)"
   ]
  },
  {
   "cell_type": "markdown",
   "metadata": {},
   "source": [
    "cp"
   ]
  },
  {
   "cell_type": "code",
   "execution_count": 15,
   "metadata": {},
   "outputs": [],
   "source": [
    "cp_args_list = []\n",
    "\n",
    "for s1 in orfipy.values():\n",
    "    for s2 in ref_seqs['cp'].values():\n",
    "        cp_args_list.append([s1, s2])"
   ]
  },
  {
   "cell_type": "code",
   "execution_count": 17,
   "metadata": {},
   "outputs": [
    {
     "data": {
      "application/vnd.jupyter.widget-view+json": {
       "model_id": "dd741e35d80d4d8fa15d50e9b1682f84",
       "version_major": 2,
       "version_minor": 0
      },
      "text/plain": [
       "  0%|          | 0/199598 [00:00<?, ?it/s]"
      ]
     },
     "metadata": {},
     "output_type": "display_data"
    }
   ],
   "source": [
    "with ProcessPoolExecutor(max_workers=40) as executor:\n",
    "    cp_results = list(tqdm(executor.map(compute_identity_score_orfxref, cp_args_list), total=len(cp_args_list)))"
   ]
  },
  {
   "cell_type": "code",
   "execution_count": 18,
   "metadata": {},
   "outputs": [],
   "source": [
    "cp_df = df_orf_edit(cp_results)\n",
    "cp_df.to_csv('results/orf_x_ref/orfipy_x_ref_cp.csv', index=False)"
   ]
  },
  {
   "cell_type": "markdown",
   "metadata": {},
   "source": [
    "MP"
   ]
  },
  {
   "cell_type": "code",
   "execution_count": 19,
   "metadata": {},
   "outputs": [],
   "source": [
    "mp_args_list = []\n",
    "\n",
    "for s1 in orfipy.values():\n",
    "    for s2 in ref_seqs['mp'].values():\n",
    "        mp_args_list.append([s1, s2])"
   ]
  },
  {
   "cell_type": "code",
   "execution_count": 20,
   "metadata": {},
   "outputs": [
    {
     "data": {
      "application/vnd.jupyter.widget-view+json": {
       "model_id": "8119f33b4a4f41d29ac8426998b6f7ec",
       "version_major": 2,
       "version_minor": 0
      },
      "text/plain": [
       "  0%|          | 0/203364 [00:00<?, ?it/s]"
      ]
     },
     "metadata": {},
     "output_type": "display_data"
    }
   ],
   "source": [
    "with ProcessPoolExecutor(max_workers=40) as executor:\n",
    "    mp_results = list(tqdm(executor.map(compute_identity_score_orfxref, mp_args_list), total=len(mp_args_list)))"
   ]
  },
  {
   "cell_type": "code",
   "execution_count": 21,
   "metadata": {},
   "outputs": [],
   "source": [
    "mp_df = df_orf_edit(mp_results)\n",
    "mp_df.to_csv('results/orf_x_ref/orfipy_x_ref_mp.csv', index=False)"
   ]
  }
 ],
 "metadata": {
  "kernelspec": {
   "display_name": "base",
   "language": "python",
   "name": "python3"
  },
  "language_info": {
   "codemirror_mode": {
    "name": "ipython",
    "version": 3
   },
   "file_extension": ".py",
   "mimetype": "text/x-python",
   "name": "python",
   "nbconvert_exporter": "python",
   "pygments_lexer": "ipython3",
   "version": "3.9.0"
  }
 },
 "nbformat": 4,
 "nbformat_minor": 2
}
