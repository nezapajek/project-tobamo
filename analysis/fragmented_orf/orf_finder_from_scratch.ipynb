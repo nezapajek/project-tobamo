{
 "cells": [
  {
   "cell_type": "code",
   "execution_count": 22,
   "metadata": {},
   "outputs": [],
   "source": [
    "from Bio import SeqIO\n",
    "from Bio.Seq import Seq\n",
    "from Bio.SeqRecord import SeqRecord"
   ]
  },
  {
   "cell_type": "code",
   "execution_count": 23,
   "metadata": {},
   "outputs": [],
   "source": [
    "# This function finds ORFs in a DNA sequence given a minimum length\n",
    "def find_orfs(seq, min_length):\n",
    "    start_codons = ['ATG']\n",
    "    stop_codons = ['TAA', 'TAG', 'TGA']\n",
    "    orfs = []\n",
    "\n",
    "    # Loop over positive and reverse strands\n",
    "    for strand, nucleotide_seq in [(+1, seq), (-1, seq.reverse_complement())]:\n",
    "        seq_length = len(nucleotide_seq)\n",
    "\n",
    "        # Loop over reading frames\n",
    "        for frame in range(3):\n",
    "            in_orf = False\n",
    "            orf_start = None\n",
    "\n",
    "            # Loop through the sequence in codon-sized steps\n",
    "            for i in range(frame, seq_length - 2, 3):\n",
    "                codon = nucleotide_seq[i:i + 3]\n",
    "\n",
    "                # Check for start codons\n",
    "                if not in_orf and codon in start_codons:\n",
    "                    in_orf = True\n",
    "                    orf_start = i\n",
    "\n",
    "                # Check for stop codons\n",
    "                if in_orf and codon in stop_codons:\n",
    "                    orf_end = i + 3\n",
    "                    if orf_start is not None and (orf_end - orf_start) >= min_length:\n",
    "                        orfs.append({\n",
    "                            'strand': strand,\n",
    "                            'frame': frame,\n",
    "                            'start': orf_start,\n",
    "                            'end': orf_end,\n",
    "                            'sequence': nucleotide_seq[orf_start:orf_end]\n",
    "                        })\n",
    "                    in_orf = False\n",
    "                    orf_start = None\n",
    "\n",
    "    return orfs"
   ]
  },
  {
   "cell_type": "code",
   "execution_count": 25,
   "metadata": {},
   "outputs": [
    {
     "name": "stdout",
     "output_type": "stream",
     "text": [
      "ORFs in NODE_3447_length_1836_cov_746.295340_DRR146894:\n",
      "  - Strand: 1, Frame: 2, Start: 1616, End: 1775, ORF: ATGTTGTCTTTTTCGATGTGTACTTATCAAGATATTGCGAAATGTATTCTTCAACCCGAACATAAATGGGTGTTGTTTCAATACATGGCATCTTGGAGTTTGTTTCCAACCGATTTAGAAACCACTTTCGTAGTTTTGATGGATCATCGCTGTTTTTAA\n",
      "ORFs in NODE_3346_length_1986_cov_333.205593_DRR146906:\n",
      "  - Strand: 1, Frame: 2, Start: 1037, End: 1163, ORF: ATGAGTTTCAGGTTCAGCATTCAGATTTGGAAGTACACGTCGACAATGTCAGAGTTGATCTCTCTAAAGACGGGGAAAGAGCCCACCGCTTTAGAGAAGAAAAAGTTGGATTTAGACCTAGGTTGA\n",
      "  - Strand: 1, Frame: 2, Start: 1715, End: 1826, ORF: ATGCTTTGCTCGAAATCGATTTTTCAAAATTCGACAAGAGTCAGACAGACATATGCTTTAACCTGGAGATGCATATTTGGGAATTGTTGGGAATGGATCAGTACTTTTTGA\n",
      "  - Strand: -1, Frame: 0, Start: 432, End: 642, ORF: ATGATGTTTTGTGGACTATTATATTCAAAAACTGCGTTTCTTTCGAGTTTGTTTTTTGGGTCTTTTTTAACCATCATTGTATACTCCACCATCCTTTCCAAGTCTAAACCTAAATTTTCGATGTTAATTCTTTTTAGTTTACTTGGTTCCTGTCCTGCCGCCCATTTTGTCAAATTTTCCCTAGTTAACGAAACGGGATTCTCCATGTAA\n",
      "  - Strand: -1, Frame: 0, Start: 1311, End: 1467, ORF: ATGAGTTCAACGGTTAAGTCCTTCACCACCGAACAGTACGCAAACCTCTTTGTGTGTCTAGTCATCCCAACCAGAATGTGTGGTCTACTTGTGAAGACCGGGACTGACTTTGGGTTTAATCTCACCAATGCAACGGACTCATACGTTGTCCCTTGA\n",
      "  - Strand: -1, Frame: 0, Start: 1476, End: 1683, ORF: ATGGTGTTAGTGGTTGCAAAACCCCTAGCAACCATGTCTTTCTTTTCTTCTTGTGTGAAAGTCAGGTATTTTTCAAAACCACTCGGGATTTCAGTTATGTTGTTTAACTTTATTACCCTCAGTGATTTTCTGACTTTATTCGTGGTGGTAAAACCACCCTCATACACCTGTGAAAATTTTTTTGCTACATCGATCGGACAACGGTAA\n"
     ]
    }
   ],
   "source": [
    "# Read sequences from a multifasta file\n",
    "fasta_file_path = \"data/test_subset.fasta\"  # Change this to the path of your multifasta file\n",
    "\n",
    "# Iterate over sequences in the FASTA file\n",
    "for record in SeqIO.parse(fasta_file_path, \"fasta\"):\n",
    "    sequence = record.seq\n",
    "    orfs = find_orfs(sequence, min_length=100)  # Set your minimum length here\n",
    "\n",
    "    if orfs:\n",
    "        print(f\"ORFs in {record.id}:\")\n",
    "        for orf in orfs:\n",
    "            print(\n",
    "                f\"  - Strand: {orf['strand']}, Frame: {orf['frame']}, Start: {orf['start']}, \"\n",
    "                f\"End: {orf['end']}, ORF: {orf['sequence']}\"\n",
    "            )\n",
    "    else:\n",
    "        print(f\"No ORFs found in {record.id} with the given minimum length.\")\n"
   ]
  }
 ],
 "metadata": {
  "kernelspec": {
   "display_name": "base",
   "language": "python",
   "name": "python3"
  },
  "language_info": {
   "codemirror_mode": {
    "name": "ipython",
    "version": 3
   },
   "file_extension": ".py",
   "mimetype": "text/x-python",
   "name": "python",
   "nbconvert_exporter": "python",
   "pygments_lexer": "ipython3",
   "version": "3.9.0"
  }
 },
 "nbformat": 4,
 "nbformat_minor": 2
}
