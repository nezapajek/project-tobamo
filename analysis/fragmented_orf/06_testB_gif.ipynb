{
 "cells": [
  {
   "cell_type": "code",
   "execution_count": 8,
   "metadata": {},
   "outputs": [],
   "source": [
    "import numpy as np\n",
    "import pandas as pd\n",
    "import matplotlib.pyplot as plt\n",
    "import imageio\n",
    "from mpl_toolkits.mplot3d import Axes3D\n",
    "import os"
   ]
  },
  {
   "cell_type": "code",
   "execution_count": 33,
   "metadata": {},
   "outputs": [],
   "source": [
    "sub_df = pd.read_csv('/home/tobamo/analize/project-tobamo/analysis/fragmented_orf/results/combined_testB_data_subset.csv')"
   ]
  },
  {
   "cell_type": "code",
   "execution_count": 40,
   "metadata": {},
   "outputs": [
    {
     "name": "stderr",
     "output_type": "stream",
     "text": [
      "/tmp/ipykernel_3642784/1016862656.py:52: DeprecationWarning: Starting with ImageIO v3 the behavior of this function will switch to that of iio.v3.imread. To keep the current behavior (and make this warning disappear) use `import imageio.v2 as imageio` or call `imageio.v2.imread` directly.\n",
      "  image = imageio.imread(filename)\n"
     ]
    }
   ],
   "source": [
    "# Determine axis limits\n",
    "x_min, x_max = sub_df['N/aln_len'].min(), sub_df['N/aln_len'].max()\n",
    "y_min, y_max = sub_df['identity_score'].min(), sub_df['identity_score'].max()\n",
    "z_min, z_max = sub_df['gap_ratio'].min(), sub_df['gap_ratio'].max()\n",
    "\n",
    "# Define a colormap\n",
    "cmap = plt.get_cmap('plasma')\n",
    "unique_pair_types = sub_df['pair_type'].unique()\n",
    "sorted_lens = np.sort(sub_df['len'].unique())[::-1]  # Sort by descending len\n",
    "colors = {pair_type: cmap(i / len(unique_pair_types)) for i, pair_type in enumerate(unique_pair_types)}\n",
    "\n",
    "# Create a folder to save the images\n",
    "import os\n",
    "if not os.path.exists('frames'):\n",
    "    os.makedirs('frames')\n",
    "\n",
    "# Plot the scatter plots\n",
    "filenames = []\n",
    "for idx, u_len in enumerate(sorted_lens):\n",
    "    fig = plt.figure(figsize=(7, 7))\n",
    "    ax = fig.add_subplot(111, projection='3d')\n",
    "    \n",
    "    for pair_type in unique_pair_types:\n",
    "        subset = sub_df[(sub_df['pair_type'] == pair_type) & (sub_df['len'] == u_len)]\n",
    "        ax.scatter(subset['N/aln_len'], subset['identity_score'], subset['gap_ratio'],\n",
    "                   color=colors[pair_type], alpha=0.2, label=f'pair_type: {pair_type}')\n",
    "    \n",
    "    # Labels and title with larger text\n",
    "    ax.set_xlabel('N/aln_len', fontsize=14)\n",
    "    ax.set_ylabel('Identity Score', fontsize=14)\n",
    "    ax.set_zlabel('Gap Ratio', fontsize=14)\n",
    "    ax.set_title(f'RDRP ORF1\\nlen: {u_len}', fontsize=16)\n",
    "    \n",
    "    # Set fixed limits for x, y, and z axes\n",
    "    ax.set_xlim(x_min, x_max)\n",
    "    ax.set_ylim(y_min, y_max)\n",
    "    ax.set_zlim(z_min, z_max)\n",
    "    \n",
    "    plt.legend()\n",
    "    # Adjust subplot parameters to prevent labels from getting cut off\n",
    "    plt.tight_layout()\n",
    "    \n",
    "    # Save the current figure\n",
    "    filename = f'frames/frame_{idx}.png'\n",
    "    plt.savefig(filename)\n",
    "    filenames.append(filename)\n",
    "    plt.close()\n",
    "\n",
    "# Create the GIF with infinite loop\n",
    "with imageio.get_writer('animation5.gif', mode='I', duration=1, loop=0) as writer:\n",
    "    for filename in filenames:\n",
    "        image = imageio.imread(filename)\n",
    "        writer.append_data(image)"
   ]
  }
 ],
 "metadata": {
  "kernelspec": {
   "display_name": "base",
   "language": "python",
   "name": "python3"
  },
  "language_info": {
   "codemirror_mode": {
    "name": "ipython",
    "version": 3
   },
   "file_extension": ".py",
   "mimetype": "text/x-python",
   "name": "python",
   "nbconvert_exporter": "python",
   "pygments_lexer": "ipython3",
   "version": "3.9.-1"
  }
 },
 "nbformat": 4,
 "nbformat_minor": 2
}
