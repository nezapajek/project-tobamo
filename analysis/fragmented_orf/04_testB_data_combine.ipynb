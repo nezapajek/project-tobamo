{
 "cells": [
  {
   "cell_type": "code",
   "execution_count": 14,
   "metadata": {},
   "outputs": [],
   "source": [
    "import pandas as pd\n",
    "from glob import glob\n",
    "from Bio import SeqIO\n",
    "import seaborn as sns\n",
    "import matplotlib.pyplot as plt\n",
    "from mpl_toolkits.mplot3d import Axes3D\n",
    "\n",
    "pd.set_option('display.max_colwidth', None)"
   ]
  },
  {
   "cell_type": "code",
   "execution_count": 15,
   "metadata": {},
   "outputs": [],
   "source": [
    "orf1_paths = glob('/home/tobamo/analize/2023-12-01_tobamo_analysis/results/testB_results/rdrp_orf1/*.csv')"
   ]
  },
  {
   "cell_type": "code",
   "execution_count": 17,
   "metadata": {},
   "outputs": [],
   "source": [
    "df = pd.concat([pd.read_csv(filename).assign(filename=filename.split(\"/\")[-1].split(\".\")[0]) for filename in orf1_paths], ignore_index=True)"
   ]
  },
  {
   "cell_type": "code",
   "execution_count": 18,
   "metadata": {},
   "outputs": [],
   "source": [
    "def get_sequence_keys(virga_path, tobamo_path):\n",
    "    all_keys = list(SeqIO.to_dict(SeqIO.parse(virga_path, \"fasta\")).keys())\n",
    "    tobamo_keys = list(SeqIO.to_dict(SeqIO.parse(tobamo_path, \"fasta\")).keys())\n",
    "    og_keys = list(set(all_keys) - set(tobamo_keys))\n",
    "    return og_keys, tobamo_keys\n",
    "\n",
    "# File paths\n",
    "files = [\n",
    "    ('/home/tobamo/analize/2023-12-01_tobamo_analysis/data/refs/virga_rdrp_orf1.txt', '/home/tobamo/analize/2023-12-01_tobamo_analysis/data/refs/tobamo_rdrp_orf1.txt', 'rdrp_orf1'),\n",
    "    ('/home/tobamo/analize/2023-12-01_tobamo_analysis/data/refs/virga_rdrp_orf2.txt', '/home/tobamo/analize/2023-12-01_tobamo_analysis/data/refs/tobamo_rdrp_orf2.txt', 'rdrp_orf2'),\n",
    "    ('/home/tobamo/analize/2023-12-01_tobamo_analysis/data/refs/cp.fasta', '/home/tobamo/analize/2023-12-01_tobamo_analysis/data/refs/cp_tobamo.fasta', 'cp'),\n",
    "    ('/home/tobamo/analize/2023-12-01_tobamo_analysis/data/refs/mp.fasta', '/home/tobamo/analize/2023-12-01_tobamo_analysis/data/refs/mp_tobamo.fasta', 'mp'),\n",
    "]\n",
    "\n",
    "# Generate difference lists and keep the original and tobamo sequences\n",
    "for file, tobamo_file, prefix in files:\n",
    "    og_var = f'{prefix}_virga'\n",
    "    tobamo_var = f'{prefix}_tobamo'\n",
    "    og_keys, tobamo_keys = get_sequence_keys(file, tobamo_file)\n",
    "    \n",
    "    # Create variables for original and tobamo sequences\n",
    "    globals()[og_var] = og_keys\n",
    "    globals()[tobamo_var] = tobamo_keys\n",
    "    \n",
    "    # Create variables for the differences\n",
    "    globals()[f'{prefix}_og'] = og_keys\n",
    "    globals()[f'{prefix}_tobamo'] = tobamo_keys"
   ]
  },
  {
   "cell_type": "code",
   "execution_count": 19,
   "metadata": {},
   "outputs": [],
   "source": [
    "# define function that determines pair type\n",
    "def determine_type_v2(row, og_list, tobamo_list):\n",
    "    r1 = row['orf_name']\n",
    "    r2 = row['ref_name']\n",
    "\n",
    "    if r1 in tobamo_list and r2 in tobamo_list:\n",
    "        return 'tobamo-tobamo'\n",
    "    \n",
    "    if r1 in og_list and r2 in og_list:\n",
    "        return 'og-og'\n",
    "    \n",
    "    return 'og-tobamo'"
   ]
  },
  {
   "cell_type": "code",
   "execution_count": 20,
   "metadata": {},
   "outputs": [],
   "source": [
    "df['pair_type'] = df.apply(determine_type_v2, og_list = rdrp_orf1_og, tobamo_list=rdrp_orf1_tobamo, axis=1)\n",
    "df = df[df.pair_type != 'og-og'] # 5021000\n",
    "df['len'] = [int(el.split('-')[-2].split('_')[0]) for el in df['filename']]\n",
    "df.to_csv('/home/tobamo/analize/project-tobamo/analysis/fragmented_orf/results/combined_testB_data.csv', index=False)"
   ]
  }
 ],
 "metadata": {
  "kernelspec": {
   "display_name": "base",
   "language": "python",
   "name": "python3"
  },
  "language_info": {
   "codemirror_mode": {
    "name": "ipython",
    "version": 3
   },
   "file_extension": ".py",
   "mimetype": "text/x-python",
   "name": "python",
   "nbconvert_exporter": "python",
   "pygments_lexer": "ipython3",
   "version": "3.9.0"
  }
 },
 "nbformat": 4,
 "nbformat_minor": 2
}
