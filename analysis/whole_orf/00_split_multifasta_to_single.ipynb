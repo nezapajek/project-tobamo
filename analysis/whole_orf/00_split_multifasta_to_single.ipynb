{
 "cells": [
  {
   "cell_type": "code",
   "execution_count": 1,
   "metadata": {},
   "outputs": [],
   "source": [
    "from Bio import SeqIO"
   ]
  },
  {
   "cell_type": "code",
   "execution_count": 2,
   "metadata": {},
   "outputs": [],
   "source": [
    "fasta_in = '/home/tobamo/analize/project-tobamo/analysis/whole_orf/data/refs_tobamo_nt/tobamo_sequences.fasta'"
   ]
  },
  {
   "cell_type": "code",
   "execution_count": 11,
   "metadata": {},
   "outputs": [],
   "source": [
    "with open(fasta_in, 'r') as fin:\n",
    "    for record in SeqIO.parse(fin, 'fasta'):\n",
    "        record.id = record.description.replace(\" \", \"_\")\n",
    "        with open(f'/home/tobamo/analize/project-tobamo/analysis/whole_orf/data/refs_tobamo_nt/{record.id}.fasta', 'w') as fout:\n",
    "            SeqIO.write(record, fout, 'fasta')"
   ]
  }
 ],
 "metadata": {
  "kernelspec": {
   "display_name": "base",
   "language": "python",
   "name": "python3"
  },
  "language_info": {
   "codemirror_mode": {
    "name": "ipython",
    "version": 3
   },
   "file_extension": ".py",
   "mimetype": "text/x-python",
   "name": "python",
   "nbconvert_exporter": "python",
   "pygments_lexer": "ipython3",
   "version": "3.9.-1"
  }
 },
 "nbformat": 4,
 "nbformat_minor": 2
}
