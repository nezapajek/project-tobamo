{
 "cells": [
  {
   "cell_type": "code",
   "execution_count": 70,
   "metadata": {},
   "outputs": [],
   "source": [
    "import pandas as pd\n",
    "from paretoset import paretoset\n",
    "from utils import *\n",
    "import numpy as np"
   ]
  },
  {
   "cell_type": "code",
   "execution_count": 71,
   "metadata": {},
   "outputs": [],
   "source": [
    "results = pd.read_csv('results/pairwise_aln_nt/nt_x_ref_edited.csv')\n",
    "ref_tobamo = list(parse_fasta('/home/tobamo/analize/project-tobamo/analysis/whole_orf/data/refs_tobamo_nt/tobamo_ref_genomes_57_.fasta').keys())\n",
    "ref_virga = list(parse_fasta('/home/tobamo/analize/project-tobamo/analysis/whole_orf/data/refs_tobamo_nt/virgaviridae_RNA1_nt_20_.fasta').keys())"
   ]
  },
  {
   "cell_type": "code",
   "execution_count": 72,
   "metadata": {},
   "outputs": [],
   "source": [
    "def calculate_pareto_set(group):\n",
    "    group['on_pareto_front'] = paretoset(group[['identity_score', 'N/aln_len', 'gap_ratio']], sense=[\"max\", \"max\", \"min\"])\n",
    "    return group"
   ]
  },
  {
   "cell_type": "code",
   "execution_count": 73,
   "metadata": {},
   "outputs": [],
   "source": [
    "results = results.groupby('contig_name', group_keys=False).apply(calculate_pareto_set)\n",
    "pareto_true = results[results.on_pareto_front == True]"
   ]
  },
  {
   "cell_type": "code",
   "execution_count": 74,
   "metadata": {},
   "outputs": [
    {
     "name": "stdout",
     "output_type": "stream",
     "text": [
      "unique SRR: 21\n",
      "unique contigs: 77\n"
     ]
    }
   ],
   "source": [
    "print(f\"unique SRR: {pareto_true.SRR.nunique()}\\nunique contigs: {pareto_true.contig_name.nunique()}\")"
   ]
  },
  {
   "cell_type": "code",
   "execution_count": 75,
   "metadata": {},
   "outputs": [],
   "source": [
    "pareto_true = pareto_true.sort_values(by=['SRR', 'contig_name', 'identity_score'], ascending=False).reset_index(drop=True)\n",
    "pareto_true['ref_tax'] = np.where(pareto_true['ref_name'].isin(ref_tobamo), 'tobamo', 'virga')\n",
    "# pareto_true.to_csv('results/pairwise_aln_nt/nt_pariwise_aln_pareto_true2.csv', index=False)"
   ]
  },
  {
   "cell_type": "markdown",
   "metadata": {},
   "source": [
    "SRR metadata for Luka"
   ]
  },
  {
   "cell_type": "code",
   "execution_count": 76,
   "metadata": {},
   "outputs": [],
   "source": [
    "srr_metadata = pd.read_csv('/home/tobamo/analize/tobamo/notebooks/srr_selection/combined_results.csv')\n",
    "filtered_srr_metadata = srr_metadata[srr_metadata.run_id.isin(pareto_true.SRR.unique())]\n",
    "sub = filtered_srr_metadata[['run_id', 'biosample_id', 'scientific_name', 'nickname', 'date', 'lng', 'lat']].drop_duplicates().reset_index(drop=True)\n",
    "# sub.to_csv('77contigs_srr_metadata.csv')"
   ]
  }
 ],
 "metadata": {
  "kernelspec": {
   "display_name": "base",
   "language": "python",
   "name": "python3"
  },
  "language_info": {
   "codemirror_mode": {
    "name": "ipython",
    "version": 3
   },
   "file_extension": ".py",
   "mimetype": "text/x-python",
   "name": "python",
   "nbconvert_exporter": "python",
   "pygments_lexer": "ipython3",
   "version": "3.9.0"
  }
 },
 "nbformat": 4,
 "nbformat_minor": 2
}
