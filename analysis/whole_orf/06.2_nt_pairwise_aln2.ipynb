{
 "cells": [
  {
   "cell_type": "code",
   "execution_count": 1,
   "metadata": {},
   "outputs": [],
   "source": [
    "from utils import *\n",
    "from Bio import SeqIO\n",
    "from concurrent.futures import ProcessPoolExecutor\n",
    "from tqdm.auto import tqdm\n",
    "import pandas as pd"
   ]
  },
  {
   "cell_type": "code",
   "execution_count": 32,
   "metadata": {},
   "outputs": [],
   "source": [
    "ref_tobamo = parse_fasta('/home/tobamo/analize/project-tobamo/analysis/whole_orf/data/refs_tobamo_nt/tobamo_ref_genomes_57_.fasta')\n",
    "ref_virga = parse_fasta('/home/tobamo/analize/project-tobamo/analysis/whole_orf/data/refs_tobamo_nt/virgaviridae_RNA1_nt_20_.fasta')\n",
    "refs = {**ref_tobamo, **ref_virga}\n",
    "\n",
    "unclassified_tobamo_path = '/home/tobamo/analize/project-tobamo/analysis/whole_orf/data/List_unclasiffied_virga_51_50unique.txt'\n",
    "with open(unclassified_tobamo_path) as file: unclassified_on_tobamo_tree = [line.strip() for line in file.readlines()]\n",
    "\n",
    "contigs_palmscan_pos = SeqIO.to_dict(SeqIO.parse('/home/tobamo/analize/project-tobamo/analysis/whole_orf/data/test_contigs_2024-04-09_palmscan_pos_.fasta', 'fasta'))\n",
    "uncl_contigs_nt_on_tree = {key: contigs_palmscan_pos[key] for key in unclassified_on_tobamo_tree if key in contigs_palmscan_pos}"
   ]
  },
  {
   "cell_type": "code",
   "execution_count": 3,
   "metadata": {},
   "outputs": [],
   "source": [
    "args_list = []\n",
    "\n",
    "for s1 in uncl_contigs_nt_on_tree.values():\n",
    "    for s2 in refs.values():\n",
    "        args_list.append([s1, s2])"
   ]
  },
  {
   "cell_type": "code",
   "execution_count": 4,
   "metadata": {},
   "outputs": [
    {
     "data": {
      "application/vnd.jupyter.widget-view+json": {
       "model_id": "351e92b261184f4082bdc9fce10add56",
       "version_major": 2,
       "version_minor": 0
      },
      "text/plain": [
       "  0%|          | 0/3850 [00:00<?, ?it/s]"
      ]
     },
     "metadata": {},
     "output_type": "display_data"
    }
   ],
   "source": [
    "with ProcessPoolExecutor(max_workers=40) as executor:\n",
    "    results = list(tqdm(executor.map(compute_identity_score_orfxref, args_list), total=len(args_list)))"
   ]
  },
  {
   "cell_type": "code",
   "execution_count": 8,
   "metadata": {},
   "outputs": [],
   "source": [
    "# pd.DataFrame(results).to_csv('results/pairwise_aln_nt/unclass_tobamo_tree_nt_x_ref.csv', index=False)"
   ]
  },
  {
   "cell_type": "code",
   "execution_count": 9,
   "metadata": {},
   "outputs": [],
   "source": [
    "results = pd.read_csv('results/pairwise_aln_nt/unclass_tobamo_tree_nt_x_ref.csv')"
   ]
  },
  {
   "cell_type": "code",
   "execution_count": 33,
   "metadata": {},
   "outputs": [],
   "source": [
    "def df_orf_edit(results):\n",
    "    df = pd.DataFrame(results)\n",
    "    df = df.rename(columns={'orf_name':'contig_name', 'orf_len':'contig_len', 'aln_orf_len':'aln_contig_len'})\n",
    "    df[\"SRR\"] = df[\"contig_name\"].str.extract(r\"_([A-Za-z0-9]+)$\")\n",
    "    df = df[\n",
    "        [\n",
    "            \"SRR\",\n",
    "            \"contig_name\",\n",
    "            \"ref_name\",\n",
    "            \"identity_score\",\n",
    "            \"gap_openings\",\n",
    "            \"gap_ratio\",\n",
    "            \"N/aln_len\",\n",
    "            \"aln_contig_len\",\n",
    "            \"M\",\n",
    "            \"N\",\n",
    "            \"aln_len\",\n",
    "            \"contig_len\",\n",
    "            \"ref_len\",\n",
    "        ]\n",
    "    ]\n",
    "    return df"
   ]
  },
  {
   "cell_type": "code",
   "execution_count": 34,
   "metadata": {},
   "outputs": [],
   "source": [
    "df = df_orf_edit(pd.DataFrame(results))"
   ]
  },
  {
   "cell_type": "code",
   "execution_count": 35,
   "metadata": {},
   "outputs": [],
   "source": [
    "df.to_csv('results/pairwise_aln_nt/unclass_tobamo_tree_nt_x_ref_edited.csv', index=False)"
   ]
  }
 ],
 "metadata": {
  "kernelspec": {
   "display_name": "base",
   "language": "python",
   "name": "python3"
  },
  "language_info": {
   "codemirror_mode": {
    "name": "ipython",
    "version": 3
   },
   "file_extension": ".py",
   "mimetype": "text/x-python",
   "name": "python",
   "nbconvert_exporter": "python",
   "pygments_lexer": "ipython3",
   "version": "3.9.0"
  }
 },
 "nbformat": 4,
 "nbformat_minor": 2
}
