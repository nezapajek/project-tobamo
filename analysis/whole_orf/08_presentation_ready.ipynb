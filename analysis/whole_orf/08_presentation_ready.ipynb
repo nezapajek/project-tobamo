{
 "cells": [
  {
   "cell_type": "code",
   "execution_count": 1,
   "metadata": {},
   "outputs": [],
   "source": [
    "import pandas as pd"
   ]
  },
  {
   "cell_type": "code",
   "execution_count": 4,
   "metadata": {},
   "outputs": [],
   "source": [
    "df = pd.read_csv('/home/tobamo/analize/project-tobamo/analysis/whole_orf/results/orf_x_ref_megamerge_2024-05-20_filtered.csv', index_col=0)"
   ]
  },
  {
   "cell_type": "code",
   "execution_count": 15,
   "metadata": {},
   "outputs": [],
   "source": [
    "df = df.drop_duplicates(subset=['contig_name'], keep='first')\n",
    "df = df.rename(columns={'rdrp_orf1_idscore>0':'rdrp_orf1', 'rdrp_orf2_idscore>0':'rdrp_orf2', 'mp_idscore>0':'mp', 'cp_idscore>0':'cp'})"
   ]
  },
  {
   "cell_type": "code",
   "execution_count": 13,
   "metadata": {},
   "outputs": [],
   "source": [
    "cols = ['SRR', 'contig_name', 'different_orfs', 'contig_len', 'rdrp_orf1','rdrp_orf2', 'mp', 'cp', 'rdrp_orf1_ref_name','rdrp_orf1_identity_score', 'rdrp_orf2_ref_name','rdrp_orf2_identity_score', 'mp_ref_name','mp_identity_score', 'cp_ref_name','cp_identity_score']\n",
    "df = df[cols]"
   ]
  },
  {
   "cell_type": "code",
   "execution_count": 14,
   "metadata": {},
   "outputs": [],
   "source": [
    "df.to_csv('database_example.csv', index=False)"
   ]
  }
 ],
 "metadata": {
  "kernelspec": {
   "display_name": "Python 3",
   "language": "python",
   "name": "python3"
  },
  "language_info": {
   "codemirror_mode": {
    "name": "ipython",
    "version": 3
   },
   "file_extension": ".py",
   "mimetype": "text/x-python",
   "name": "python",
   "nbconvert_exporter": "python",
   "pygments_lexer": "ipython3",
   "version": "3.9.0"
  }
 },
 "nbformat": 4,
 "nbformat_minor": 2
}
