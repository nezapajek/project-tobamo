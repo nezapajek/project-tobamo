{
 "cells": [
  {
   "cell_type": "markdown",
   "metadata": {},
   "source": [
    "### Make pairwise alignments for each protein references x getorf protein candidates"
   ]
  },
  {
   "cell_type": "code",
   "execution_count": 1,
   "metadata": {},
   "outputs": [],
   "source": [
    "from utils import *\n",
    "# from Bio import SeqIO\n",
    "# import os\n",
    "from concurrent.futures import ProcessPoolExecutor\n",
    "from tqdm.auto import tqdm\n",
    "# import tempfile"
   ]
  },
  {
   "cell_type": "code",
   "execution_count": 2,
   "metadata": {},
   "outputs": [],
   "source": [
    "# Define file paths\n",
    "ref_files = {\n",
    "    'cp': 'data/refs_virga/cp.fasta',\n",
    "    'mp': 'data/refs_virga/mp.fasta',\n",
    "    'rdrp_orf1': 'data/refs_virga/rdrp_orf1.txt',\n",
    "    'rdrp_orf2': 'data/refs_virga/rdrp_orf2.txt'\n",
    "}\n",
    "\n",
    "getorf_files = {\n",
    "    'cp': 'results/getorf_candidates/getorf_cp_candidates.fasta',\n",
    "    'mp': 'results/getorf_candidates/getorf_mp_candidates.fasta',\n",
    "    'rdrp_orf1': 'results/getorf_candidates/getorf_rdrp_orf1_candidates.fasta',\n",
    "    'rdrp_orf2': 'results/getorf_candidates/getorf_rdrp_orf2_candidates.fasta'\n",
    "}\n",
    "\n",
    "# Parse fasta files\n",
    "ref_seqs = {key: parse_fasta(file_path) for key, file_path in ref_files.items()}\n",
    "getorf_seqs = {key: parse_fasta(file_path) for key, file_path in getorf_files.items()}"
   ]
  },
  {
   "cell_type": "markdown",
   "metadata": {},
   "source": [
    "rdrp ORF1 orf x ref"
   ]
  },
  {
   "cell_type": "code",
   "execution_count": 3,
   "metadata": {},
   "outputs": [],
   "source": [
    "rdrp_orf1_args_list = []\n",
    "\n",
    "for s1 in getorf_seqs['rdrp_orf1'].values():\n",
    "    for s2 in ref_seqs['rdrp_orf1'].values():\n",
    "        rdrp_orf1_args_list.append([s1, s2])"
   ]
  },
  {
   "cell_type": "code",
   "execution_count": 4,
   "metadata": {},
   "outputs": [
    {
     "data": {
      "application/vnd.jupyter.widget-view+json": {
       "model_id": "f60b0eec74614318adee312156b8a67a",
       "version_major": 2,
       "version_minor": 0
      },
      "text/plain": [
       "  0%|          | 0/1065 [00:00<?, ?it/s]"
      ]
     },
     "metadata": {},
     "output_type": "display_data"
    }
   ],
   "source": [
    "with ProcessPoolExecutor(max_workers=40) as executor:\n",
    "    rdrp_orf1_results = list(tqdm(executor.map(compute_identity_score_orfxref, rdrp_orf1_args_list), total=len(rdrp_orf1_args_list)))"
   ]
  },
  {
   "cell_type": "code",
   "execution_count": 5,
   "metadata": {},
   "outputs": [],
   "source": [
    "rdrp_orf1_df = df_orf_edit(rdrp_orf1_results)\n",
    "rdrp_orf1_df.to_csv('results/orf_x_ref/rdrp_orf1_orf_x_ref.csv', index=False)"
   ]
  },
  {
   "cell_type": "markdown",
   "metadata": {},
   "source": [
    "rdrp ORF2 orf x ref"
   ]
  },
  {
   "cell_type": "code",
   "execution_count": 6,
   "metadata": {},
   "outputs": [],
   "source": [
    "rdrp_orf2_args_list = []\n",
    "\n",
    "for s1 in getorf_seqs['rdrp_orf2'].values():\n",
    "    for s2 in ref_seqs['rdrp_orf2'].values():\n",
    "        rdrp_orf2_args_list.append([s1, s2])"
   ]
  },
  {
   "cell_type": "code",
   "execution_count": 7,
   "metadata": {},
   "outputs": [
    {
     "data": {
      "application/vnd.jupyter.widget-view+json": {
       "model_id": "012c94e0b41246fea4743191d5fec889",
       "version_major": 2,
       "version_minor": 0
      },
      "text/plain": [
       "  0%|          | 0/16259 [00:00<?, ?it/s]"
      ]
     },
     "metadata": {},
     "output_type": "display_data"
    }
   ],
   "source": [
    "with ProcessPoolExecutor(max_workers=40) as executor:\n",
    "    rdrp_orf2_results = list(tqdm(executor.map(compute_identity_score_orfxref, rdrp_orf2_args_list), total=len(rdrp_orf2_args_list)))"
   ]
  },
  {
   "cell_type": "code",
   "execution_count": 8,
   "metadata": {},
   "outputs": [],
   "source": [
    "rdrp_orf2_df = df_orf_edit(rdrp_orf2_results)\n",
    "rdrp_orf2_df.to_csv('results/orf_x_ref/rdrp_orf2_orf_x_ref.csv', index=False)"
   ]
  },
  {
   "cell_type": "markdown",
   "metadata": {},
   "source": [
    "Coat protein orf x ref"
   ]
  },
  {
   "cell_type": "code",
   "execution_count": 9,
   "metadata": {},
   "outputs": [],
   "source": [
    "cp_args_list = []\n",
    "\n",
    "for s1 in getorf_seqs['cp'].values():\n",
    "    for s2 in ref_seqs['cp'].values():\n",
    "        cp_args_list.append([s1, s2])"
   ]
  },
  {
   "cell_type": "code",
   "execution_count": 10,
   "metadata": {},
   "outputs": [
    {
     "data": {
      "application/vnd.jupyter.widget-view+json": {
       "model_id": "2005efa717404954a7b9e3a9e48f3c1b",
       "version_major": 2,
       "version_minor": 0
      },
      "text/plain": [
       "  0%|          | 0/68925 [00:00<?, ?it/s]"
      ]
     },
     "metadata": {},
     "output_type": "display_data"
    }
   ],
   "source": [
    "with ProcessPoolExecutor(max_workers=40) as executor:\n",
    "    cp_results = list(tqdm(executor.map(compute_identity_score_orfxref, cp_args_list), total=len(cp_args_list)))"
   ]
  },
  {
   "cell_type": "code",
   "execution_count": 11,
   "metadata": {},
   "outputs": [],
   "source": [
    "cp_df = df_orf_edit(cp_results)\n",
    "cp_df.to_csv('results/orf_x_ref/cp_orf_x_ref.csv', index=False)"
   ]
  },
  {
   "cell_type": "markdown",
   "metadata": {},
   "source": [
    "Movement protein orf x ref"
   ]
  },
  {
   "cell_type": "code",
   "execution_count": 12,
   "metadata": {},
   "outputs": [],
   "source": [
    "mp_args_list = []\n",
    "\n",
    "for s1 in getorf_seqs['mp'].values():\n",
    "    for s2 in ref_seqs['mp'].values():\n",
    "        mp_args_list.append([s1, s2])"
   ]
  },
  {
   "cell_type": "code",
   "execution_count": 13,
   "metadata": {},
   "outputs": [
    {
     "data": {
      "application/vnd.jupyter.widget-view+json": {
       "model_id": "9bea04dec81f494f99d8dc9e908333c0",
       "version_major": 2,
       "version_minor": 0
      },
      "text/plain": [
       "  0%|          | 0/19690 [00:00<?, ?it/s]"
      ]
     },
     "metadata": {},
     "output_type": "display_data"
    }
   ],
   "source": [
    "with ProcessPoolExecutor(max_workers=40) as executor:\n",
    "    mp_results = list(tqdm(executor.map(compute_identity_score_orfxref, mp_args_list), total=len(mp_args_list)))"
   ]
  },
  {
   "cell_type": "code",
   "execution_count": 14,
   "metadata": {},
   "outputs": [],
   "source": [
    "mp_df = df_orf_edit(mp_results)\n",
    "mp_df.to_csv('results/orf_x_ref/mp_orf_x_ref.csv', index=False)"
   ]
  }
 ],
 "metadata": {
  "kernelspec": {
   "display_name": "base",
   "language": "python",
   "name": "python3"
  },
  "language_info": {
   "codemirror_mode": {
    "name": "ipython",
    "version": 3
   },
   "file_extension": ".py",
   "mimetype": "text/x-python",
   "name": "python",
   "nbconvert_exporter": "python",
   "pygments_lexer": "ipython3",
   "version": "3.9.0"
  }
 },
 "nbformat": 4,
 "nbformat_minor": 2
}
