{
 "cells": [
  {
   "cell_type": "code",
   "execution_count": 71,
   "metadata": {},
   "outputs": [],
   "source": [
    "import pandas as pd\n",
    "from glob import glob\n",
    "import numpy as np\n",
    "import re"
   ]
  },
  {
   "cell_type": "code",
   "execution_count": 72,
   "metadata": {},
   "outputs": [],
   "source": [
    "pd.set_option('display.max_colwidth', None)"
   ]
  },
  {
   "cell_type": "markdown",
   "metadata": {},
   "source": [
    "import data"
   ]
  },
  {
   "cell_type": "code",
   "execution_count": 73,
   "metadata": {},
   "outputs": [],
   "source": [
    "blast_aln_description_files = glob('/home/tobamo/analize/project-tobamo/analysis/whole_orf/results/blast/blast_luka_results/*Alignment-Descriptions_*.csv')\n",
    "blast_aln_hits_files = glob('/home/tobamo/analize/project-tobamo/analysis/whole_orf/results/blast/blast_luka_results/*Alignment-HitTable*.csv')"
   ]
  },
  {
   "cell_type": "code",
   "execution_count": 74,
   "metadata": {},
   "outputs": [],
   "source": [
    "contigs_on_tobamo_tree_path = '/home/tobamo/analize/project-tobamo/analysis/whole_orf/results/blast/contigs_on_tree-tobamo2.txt'\n",
    "movement_only_contigs_path = '/home/tobamo/analize/project-tobamo/analysis/whole_orf/results/blast/movement_only_contigs.txt'\n",
    "other_contigs_path = '/home/tobamo/analize/project-tobamo/analysis/whole_orf/results/blast/other_contigs.txt'\n",
    "all_contigs_for_blast_path = '/home/tobamo/analize/project-tobamo/analysis/whole_orf/results/blast/all_contigs_for_blast.txt'\n",
    "\n",
    "with open(contigs_on_tobamo_tree_path) as file: contigs_on_tobamo_tree = [line.strip() for line in file.readlines()]\n",
    "with open(movement_only_contigs_path) as file: movement_only_contigs = [line.strip() for line in file.readlines()]\n",
    "with open(other_contigs_path) as file: other_contigs = [line.strip() for line in file.readlines()]\n",
    "with open(all_contigs_for_blast_path) as file: all_contigs_for_blast = [line.strip() for line in file.readlines()]"
   ]
  },
  {
   "cell_type": "markdown",
   "metadata": {},
   "source": [
    "define parsing functions"
   ]
  },
  {
   "cell_type": "code",
   "execution_count": 75,
   "metadata": {},
   "outputs": [],
   "source": [
    "def read_hits_files(filenames):\n",
    "    dfs = [pd.read_csv(filename, names=['qaccver', 'saccver', 'identity', 'alnlen', 'mismatch', 'gapopen', 'qstart', 'qend', 'sstart', 'send', 'evalue', 'bitscore'], header=None) for filename in filenames]\n",
    "    df = pd.concat(dfs, ignore_index=True)\n",
    "    return df\n",
    "\n",
    "df_hits = read_hits_files(blast_aln_hits_files)"
   ]
  },
  {
   "cell_type": "code",
   "execution_count": 76,
   "metadata": {},
   "outputs": [],
   "source": [
    "def read_desc_files(filenames):\n",
    "    dfs = [pd.read_csv(filename) for filename in filenames]\n",
    "    df = pd.concat(dfs, ignore_index=True)\n",
    "\n",
    "    def extract_accession_number(hyperlink):\n",
    "        pattern = r'/([A-Z0-9]+\\.[A-Z0-9]+)'\n",
    "        match = re.search(pattern, hyperlink)\n",
    "        if match:\n",
    "            return match.group(1)\n",
    "        return None\n",
    "\n",
    "    df['saccver'] = df['Accession  '].apply(extract_accession_number)\n",
    "    df = df[['Scientific Name', 'saccver']]\n",
    "    return df\n",
    "\n",
    "df_desc = read_desc_files(blast_aln_description_files).drop_duplicates()"
   ]
  },
  {
   "cell_type": "code",
   "execution_count": 77,
   "metadata": {},
   "outputs": [],
   "source": [
    "merged = df_hits.merge(df_desc, on='saccver').drop_duplicates().sort_values(by=['qaccver', 'bitscore'], ascending=False)"
   ]
  },
  {
   "cell_type": "code",
   "execution_count": 78,
   "metadata": {},
   "outputs": [],
   "source": [
    "def determine_status(group):\n",
    "    top_10 = group.head(10)\n",
    "    if top_10['Scientific Name'].nunique() == 1 and (top_10['identity'] > 90).any():\n",
    "        return 'known'\n",
    "    else:\n",
    "        return 'check'\n",
    "\n",
    "mapping = merged.groupby('qaccver').apply(lambda x: determine_status(x)).to_dict()\n",
    "merged['status'] = merged.qaccver.map(mapping)"
   ]
  },
  {
   "cell_type": "code",
   "execution_count": 79,
   "metadata": {},
   "outputs": [],
   "source": [
    "# Find the qaccver values that are missing from the DataFrame\n",
    "missing_qaccver = [item for item in all_contigs_for_blast if item not in merged['qaccver'].values]\n",
    "\n",
    "# Create a DataFrame for the missing qaccver values with NaN for the other columns\n",
    "missing_df = pd.DataFrame({'qaccver': missing_qaccver})\n",
    "\n",
    "# Append the missing rows to the original DataFrame\n",
    "mega = pd.concat([merged, missing_df], ignore_index=True)"
   ]
  },
  {
   "cell_type": "code",
   "execution_count": 80,
   "metadata": {},
   "outputs": [],
   "source": [
    "mega['batch'] = mega['qaccver'].apply(lambda x: 'movement_only' if x in movement_only_contigs else 'other')\n",
    "mega['on_tobamo_tree_palmprint'] = np.where(mega['qaccver'].isin(contigs_on_tobamo_tree), 1, 0)"
   ]
  },
  {
   "cell_type": "markdown",
   "metadata": {},
   "source": [
    "save table"
   ]
  },
  {
   "cell_type": "code",
   "execution_count": 82,
   "metadata": {},
   "outputs": [],
   "source": [
    "mega.to_csv('whole_orf_blast_out_luka_20-05-2024.csv', index=False)"
   ]
  }
 ],
 "metadata": {
  "kernelspec": {
   "display_name": "base",
   "language": "python",
   "name": "python3"
  },
  "language_info": {
   "codemirror_mode": {
    "name": "ipython",
    "version": 3
   },
   "file_extension": ".py",
   "mimetype": "text/x-python",
   "name": "python",
   "nbconvert_exporter": "python",
   "pygments_lexer": "ipython3",
   "version": "3.9.-1"
  }
 },
 "nbformat": 4,
 "nbformat_minor": 2
}
