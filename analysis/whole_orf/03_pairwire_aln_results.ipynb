{
 "cells": [
  {
   "cell_type": "code",
   "execution_count": 49,
   "metadata": {},
   "outputs": [],
   "source": [
    "from glob import glob\n",
    "import pandas as pd\n",
    "from Bio import SeqIO\n",
    "from paretoset import paretoset\n",
    "import numpy as np\n",
    "import datetime\n",
    "import re"
   ]
  },
  {
   "cell_type": "markdown",
   "metadata": {},
   "source": [
    "ADD GETORF INFO"
   ]
  },
  {
   "cell_type": "code",
   "execution_count": 2,
   "metadata": {},
   "outputs": [],
   "source": [
    "files_dict = {filename.split('/')[-1].split('.')[0]: filename for filename in glob('results/orf_x_ref/*.csv')}\n",
    "dfs = {key: pd.read_csv(file_path) for key, file_path in files_dict.items()}\n",
    "getorf = '/home/tobamo/analize/project-tobamo/analysis/whole_orf/results/getorf_output_find1_min_360_max_3510.fasta'"
   ]
  },
  {
   "cell_type": "code",
   "execution_count": 3,
   "metadata": {},
   "outputs": [],
   "source": [
    "with open(getorf, \"r\") as file:\n",
    "    data = [record.description for record in SeqIO.parse(file, \"fasta\")]\n",
    "\n",
    "getorf = pd.DataFrame({\n",
    "    'orf_name': [item.split()[0].replace('=', '_') for item in data],\n",
    "    'orf_start': [int(item.split('[')[1].split(' - ')[0]) for item in data],\n",
    "    'orf_end': [int(item.split(' - ')[1].split(']')[0]) for item in data],\n",
    "    'orientation': ['REVERSE' if \"(REVERSE SENSE)\" in item else 'FORWARD' for item in data]\n",
    "})"
   ]
  },
  {
   "cell_type": "code",
   "execution_count": 4,
   "metadata": {},
   "outputs": [],
   "source": [
    "for key, df in dfs.items():\n",
    "    merged = df.merge(getorf, how='left', on='orf_name')\n",
    "    # merged.to_csv(f'results/orf_x_ref_getorf_info/{key}_getorf_info.csv', index=False)\n",
    "    dfs[key] = merged"
   ]
  },
  {
   "cell_type": "markdown",
   "metadata": {},
   "source": [
    "FILTER AND MERGE"
   ]
  },
  {
   "cell_type": "code",
   "execution_count": 5,
   "metadata": {},
   "outputs": [],
   "source": [
    "# define pareto function for cp and mp (abs_diff - min)\n",
    "def calculate_pareto_set(group):\n",
    "    group['on_pareto_front'] = paretoset(group[['identity_score', 'N/aln_len', 'gap_ratio']], sense=[\"max\", \"max\", \"min\"])\n",
    "    return group"
   ]
  },
  {
   "cell_type": "code",
   "execution_count": 6,
   "metadata": {},
   "outputs": [],
   "source": [
    "for key, df in dfs.items():\n",
    "    pareto = df.groupby('contig_name', group_keys=False).apply(calculate_pareto_set)\n",
    "    dfs[key] = pareto"
   ]
  },
  {
   "cell_type": "markdown",
   "metadata": {},
   "source": [
    "FIGURE OUT LIMITS FROM REFERENCE FILES"
   ]
  },
  {
   "cell_type": "code",
   "execution_count": 7,
   "metadata": {},
   "outputs": [],
   "source": [
    "f_dict = {filename.split('/')[-1].split('.')[0]: filename for filename in glob('results/reference_limits/*.csv')}\n",
    "ref_dfs = {key: pd.read_csv(file_path) for key, file_path in f_dict.items()}"
   ]
  },
  {
   "cell_type": "code",
   "execution_count": 8,
   "metadata": {},
   "outputs": [
    {
     "data": {
      "text/html": [
       "<div>\n",
       "<style scoped>\n",
       "    .dataframe tbody tr th:only-of-type {\n",
       "        vertical-align: middle;\n",
       "    }\n",
       "\n",
       "    .dataframe tbody tr th {\n",
       "        vertical-align: top;\n",
       "    }\n",
       "\n",
       "    .dataframe thead tr th {\n",
       "        text-align: left;\n",
       "    }\n",
       "</style>\n",
       "<table border=\"1\" class=\"dataframe\">\n",
       "  <thead>\n",
       "    <tr>\n",
       "      <th></th>\n",
       "      <th colspan=\"4\" halign=\"left\">Identity Score</th>\n",
       "      <th colspan=\"4\" halign=\"left\">Gap Ratio</th>\n",
       "      <th colspan=\"4\" halign=\"left\">N/aln_len</th>\n",
       "    </tr>\n",
       "    <tr>\n",
       "      <th></th>\n",
       "      <th colspan=\"2\" halign=\"left\">Max Identity Score</th>\n",
       "      <th colspan=\"2\" halign=\"left\">Min Identity Score</th>\n",
       "      <th colspan=\"2\" halign=\"left\">Max Gap Ratio</th>\n",
       "      <th colspan=\"2\" halign=\"left\">Min Gap Ratio</th>\n",
       "      <th colspan=\"2\" halign=\"left\">Max N/aln_len</th>\n",
       "      <th colspan=\"2\" halign=\"left\">Min N/aln_len</th>\n",
       "    </tr>\n",
       "    <tr>\n",
       "      <th>pair_type</th>\n",
       "      <th>og-tobamo</th>\n",
       "      <th>tobamo-tobamo</th>\n",
       "      <th>og-tobamo</th>\n",
       "      <th>tobamo-tobamo</th>\n",
       "      <th>og-tobamo</th>\n",
       "      <th>tobamo-tobamo</th>\n",
       "      <th>og-tobamo</th>\n",
       "      <th>tobamo-tobamo</th>\n",
       "      <th>og-tobamo</th>\n",
       "      <th>tobamo-tobamo</th>\n",
       "      <th>og-tobamo</th>\n",
       "      <th>tobamo-tobamo</th>\n",
       "    </tr>\n",
       "  </thead>\n",
       "  <tbody>\n",
       "    <tr>\n",
       "      <th>rdrp_orf2_pareto</th>\n",
       "      <td>0.420635</td>\n",
       "      <td>1.000000</td>\n",
       "      <td>0.317734</td>\n",
       "      <td>0.514019</td>\n",
       "      <td>0.035865</td>\n",
       "      <td>0.018367</td>\n",
       "      <td>0.003205</td>\n",
       "      <td>0.0</td>\n",
       "      <td>0.996795</td>\n",
       "      <td>1.0</td>\n",
       "      <td>0.766600</td>\n",
       "      <td>0.841897</td>\n",
       "    </tr>\n",
       "    <tr>\n",
       "      <th>rdrp_orf1_pareto</th>\n",
       "      <td>0.353877</td>\n",
       "      <td>0.999105</td>\n",
       "      <td>0.283412</td>\n",
       "      <td>0.385379</td>\n",
       "      <td>0.050708</td>\n",
       "      <td>0.025907</td>\n",
       "      <td>0.028613</td>\n",
       "      <td>0.0</td>\n",
       "      <td>0.839300</td>\n",
       "      <td>1.0</td>\n",
       "      <td>0.644068</td>\n",
       "      <td>0.670753</td>\n",
       "    </tr>\n",
       "    <tr>\n",
       "      <th>cp_pareto</th>\n",
       "      <td>0.407767</td>\n",
       "      <td>1.000000</td>\n",
       "      <td>0.184049</td>\n",
       "      <td>0.333333</td>\n",
       "      <td>0.079602</td>\n",
       "      <td>0.032680</td>\n",
       "      <td>0.021277</td>\n",
       "      <td>0.0</td>\n",
       "      <td>0.867021</td>\n",
       "      <td>1.0</td>\n",
       "      <td>0.453744</td>\n",
       "      <td>0.746544</td>\n",
       "    </tr>\n",
       "    <tr>\n",
       "      <th>mp_pareto</th>\n",
       "      <td>0.321267</td>\n",
       "      <td>0.996212</td>\n",
       "      <td>0.202532</td>\n",
       "      <td>0.250951</td>\n",
       "      <td>0.061856</td>\n",
       "      <td>0.057047</td>\n",
       "      <td>0.028070</td>\n",
       "      <td>0.0</td>\n",
       "      <td>0.899614</td>\n",
       "      <td>1.0</td>\n",
       "      <td>0.661932</td>\n",
       "      <td>0.684366</td>\n",
       "    </tr>\n",
       "  </tbody>\n",
       "</table>\n",
       "</div>"
      ],
      "text/plain": [
       "                     Identity Score                                   \\\n",
       "                 Max Identity Score               Min Identity Score   \n",
       "pair_type                 og-tobamo tobamo-tobamo          og-tobamo   \n",
       "rdrp_orf2_pareto           0.420635      1.000000           0.317734   \n",
       "rdrp_orf1_pareto           0.353877      0.999105           0.283412   \n",
       "cp_pareto                  0.407767      1.000000           0.184049   \n",
       "mp_pareto                  0.321267      0.996212           0.202532   \n",
       "\n",
       "                                   Gap Ratio                              \\\n",
       "                               Max Gap Ratio               Min Gap Ratio   \n",
       "pair_type        tobamo-tobamo     og-tobamo tobamo-tobamo     og-tobamo   \n",
       "rdrp_orf2_pareto      0.514019      0.035865      0.018367      0.003205   \n",
       "rdrp_orf1_pareto      0.385379      0.050708      0.025907      0.028613   \n",
       "cp_pareto             0.333333      0.079602      0.032680      0.021277   \n",
       "mp_pareto             0.250951      0.061856      0.057047      0.028070   \n",
       "\n",
       "                                   N/aln_len                              \\\n",
       "                               Max N/aln_len               Min N/aln_len   \n",
       "pair_type        tobamo-tobamo     og-tobamo tobamo-tobamo     og-tobamo   \n",
       "rdrp_orf2_pareto           0.0      0.996795           1.0      0.766600   \n",
       "rdrp_orf1_pareto           0.0      0.839300           1.0      0.644068   \n",
       "cp_pareto                  0.0      0.867021           1.0      0.453744   \n",
       "mp_pareto                  0.0      0.899614           1.0      0.661932   \n",
       "\n",
       "                                \n",
       "                                \n",
       "pair_type        tobamo-tobamo  \n",
       "rdrp_orf2_pareto      0.841897  \n",
       "rdrp_orf1_pareto      0.670753  \n",
       "cp_pareto             0.746544  \n",
       "mp_pareto             0.684366  "
      ]
     },
     "execution_count": 8,
     "metadata": {},
     "output_type": "execute_result"
    }
   ],
   "source": [
    "final_tables = {}\n",
    "metrics = {'identity_score': 'Identity Score', 'gap_ratio': 'Gap Ratio', 'N/aln_len': 'N/aln_len'}\n",
    "\n",
    "# Iterate through each metric\n",
    "for metric, label in metrics.items():\n",
    "    max_scores_list = []\n",
    "    min_scores_list = []\n",
    "    \n",
    "    # Iterate through each DataFrame\n",
    "    for key, df in ref_dfs.items():\n",
    "        max_scores_list.append(df.groupby('pair_type')[metric].max())\n",
    "        min_scores_list.append(df.groupby('pair_type')[metric].min())\n",
    "\n",
    "    max_scores_df = pd.concat(max_scores_list, axis=1, keys=ref_dfs.keys())\n",
    "    min_scores_df = pd.concat(min_scores_list, axis=1, keys=ref_dfs.keys())\n",
    "\n",
    "    final_tables[label] = pd.concat({\n",
    "        f'Max {label}': max_scores_df.transpose(),\n",
    "        f'Min {label}': min_scores_df.transpose()\n",
    "    }, axis=1)\n",
    "\n",
    "# Combine all final tables into a single table\n",
    "final_table_combined = pd.concat(final_tables, axis=1)\n",
    "final_table_combined"
   ]
  },
  {
   "cell_type": "code",
   "execution_count": 9,
   "metadata": {},
   "outputs": [],
   "source": [
    "# final_table_combined.to_excel('reference_limits_table.xlsx')"
   ]
  },
  {
   "cell_type": "markdown",
   "metadata": {},
   "source": [
    "FILTER DFS"
   ]
  },
  {
   "cell_type": "code",
   "execution_count": 68,
   "metadata": {},
   "outputs": [],
   "source": [
    "filtered_dfs = {}\n",
    "\n",
    "for key, df in dfs.items():\n",
    "    name = key.replace('orf_x_ref', 'pareto')\n",
    "\n",
    "    id_score_lim_sl = final_table_combined.loc[(f'{name}'), ('Identity Score', 'Min Identity Score', 'tobamo-tobamo')]\n",
    "    naln_len_lim_sl = final_table_combined.loc[(f'{name}'), ('N/aln_len', 'Min N/aln_len', 'tobamo-tobamo')]\n",
    "    gap_ratio_lim_sl = final_table_combined.loc[(f'{name}'), ('Gap Ratio', 'Max Gap Ratio', 'tobamo-tobamo')]\n",
    "\n",
    "\n",
    "    id_score_lim_ss = final_table_combined.loc[(f'{name}'), ('Identity Score', 'Max Identity Score', 'og-tobamo')]\n",
    "    naln_len_lim_ss = final_table_combined.loc[(f'{name}'), ('N/aln_len', 'Max N/aln_len', 'og-tobamo')]\n",
    "    gap_ratio_lim_ss = final_table_combined.loc[(f'{name}'), ('Gap Ratio', 'Min Gap Ratio', 'og-tobamo')]\n",
    "\n",
    "    def filter_rows(dataframe):\n",
    "        filtered_df = dataframe[(dataframe['identity_score'] >= id_score_lim_sl) & (dataframe['N/aln_len'] >= naln_len_lim_sl) & (dataframe['gap_ratio'] <= gap_ratio_lim_sl)]\n",
    "        filtered_df['tax_trust'] = (\n",
    "            (filtered_df['identity_score'] >= id_score_lim_ss) &\n",
    "            (filtered_df['N/aln_len'] >= naln_len_lim_ss) &\n",
    "            (filtered_df['gap_ratio'] <= gap_ratio_lim_ss)\n",
    "        )\n",
    "        return filtered_df\n",
    "\n",
    "    filtered_df = filter_rows(df)\n",
    "    filtered_dfs[key] = filtered_df"
   ]
  },
  {
   "cell_type": "markdown",
   "metadata": {},
   "source": [
    "edit col names, add prefixes"
   ]
  },
  {
   "cell_type": "code",
   "execution_count": 69,
   "metadata": {},
   "outputs": [],
   "source": [
    "num = 0\n",
    "\n",
    "for key, df in filtered_dfs.items():\n",
    "    name = key.replace('_orf_x_ref', '')\n",
    "    df = df.drop(labels='SRR', axis=1)\n",
    "    rnm = df[df['on_pareto_front'] == True].copy()\n",
    "    rnm[f'idscore>{num}'] = np.where(rnm['identity_score'] > num, True, False)\n",
    "    rnm.rename(columns={col: f'{name}_{col}' for col in rnm.columns if col not in ['contig_name']}, inplace=True)\n",
    "    filtered_dfs[key] = rnm"
   ]
  },
  {
   "cell_type": "code",
   "execution_count": 70,
   "metadata": {},
   "outputs": [],
   "source": [
    "# merge dataframes\n",
    "megamerge = filtered_dfs['rdrp_orf1_orf_x_ref'].merge(filtered_dfs['rdrp_orf2_orf_x_ref'], on='contig_name', how='outer').merge(filtered_dfs['mp_orf_x_ref'], on='contig_name', how='outer').merge(filtered_dfs['cp_orf_x_ref'], on='contig_name', how='outer')"
   ]
  },
  {
   "cell_type": "code",
   "execution_count": 71,
   "metadata": {},
   "outputs": [],
   "source": [
    "megamerge['SRR'] = megamerge[\"contig_name\"].str.extract(r\"_([A-Za-z0-9]+)$\")"
   ]
  },
  {
   "cell_type": "code",
   "execution_count": 90,
   "metadata": {},
   "outputs": [],
   "source": [
    "pd.options.mode.chained_assignment = None\n",
    "\n",
    "megamerge['contig_len'] = megamerge['contig_name'].apply(lambda x: int(re.search(r'length_(\\d+)|len_(\\d+)', x).group(1) or re.search(r'len_(\\d+)', x).group(1)))\n",
    "megamerge['orientation_match'] = megamerge[['rdrp_orf1_orientation', 'rdrp_orf2_orientation', 'mp_orientation', 'cp_orientation']].apply(lambda row: len(set(row.dropna())) == 1, axis=1)\n",
    "megamerge['different_orfs'] = megamerge[['rdrp_orf1_orf_name', 'rdrp_orf2_orf_name', 'mp_orf_name', 'cp_orf_name']].apply(\n",
    "    lambda row: 'check' if len(set(row.dropna())) == 1 else 'different orfs',\n",
    "    axis=1\n",
    ")"
   ]
  },
  {
   "cell_type": "code",
   "execution_count": 91,
   "metadata": {},
   "outputs": [],
   "source": [
    "# set first cols\n",
    "first_columns = ['SRR', 'contig_name','different_orfs', 'contig_len',  f'rdrp_orf1_idscore>{num}',  f'rdrp_orf2_idscore>{num}', f'mp_idscore>{num}', f'cp_idscore>{num}']\n",
    "\n",
    "# Reorder the columns\n",
    "mega = megamerge[first_columns + [col for col in megamerge.columns if col not in first_columns]]"
   ]
  },
  {
   "cell_type": "code",
   "execution_count": 92,
   "metadata": {},
   "outputs": [],
   "source": [
    "current_date = datetime.datetime.now().strftime(\"%Y-%m-%d\")\n",
    "mega.to_csv(f'results/orf_x_ref_megamerge_{current_date}_filtered.csv')"
   ]
  },
  {
   "cell_type": "code",
   "execution_count": 87,
   "metadata": {},
   "outputs": [],
   "source": [
    "import seaborn as sns\n",
    "import matplotlib.pyplot as plt\n",
    "df = mega[['contig_name', 'rdrp_orf1_idscore>0.5', 'rdrp_orf2_idscore>0.5', 'mp_idscore>0.5', 'cp_idscore>0.5']]"
   ]
  },
  {
   "cell_type": "code",
   "execution_count": 89,
   "metadata": {},
   "outputs": [
    {
     "data": {
      "text/html": [
       "<div>\n",
       "<style scoped>\n",
       "    .dataframe tbody tr th:only-of-type {\n",
       "        vertical-align: middle;\n",
       "    }\n",
       "\n",
       "    .dataframe tbody tr th {\n",
       "        vertical-align: top;\n",
       "    }\n",
       "\n",
       "    .dataframe thead th {\n",
       "        text-align: right;\n",
       "    }\n",
       "</style>\n",
       "<table border=\"1\" class=\"dataframe\">\n",
       "  <thead>\n",
       "    <tr style=\"text-align: right;\">\n",
       "      <th></th>\n",
       "      <th>contig_name</th>\n",
       "      <th>rdrp_orf1_idscore&gt;0.5</th>\n",
       "      <th>rdrp_orf2_idscore&gt;0.5</th>\n",
       "      <th>mp_idscore&gt;0.5</th>\n",
       "      <th>cp_idscore&gt;0.5</th>\n",
       "    </tr>\n",
       "  </thead>\n",
       "  <tbody>\n",
       "    <tr>\n",
       "      <th>0</th>\n",
       "      <td>NODE_123_length_4070_cov_4.588543_SRR11613515</td>\n",
       "      <td>True</td>\n",
       "      <td>NaN</td>\n",
       "      <td>False</td>\n",
       "      <td>NaN</td>\n",
       "    </tr>\n",
       "    <tr>\n",
       "      <th>27</th>\n",
       "      <td>NODE_1981_length_3457_cov_1.405325_SRR1777513</td>\n",
       "      <td>True</td>\n",
       "      <td>NaN</td>\n",
       "      <td>NaN</td>\n",
       "      <td>NaN</td>\n",
       "    </tr>\n",
       "    <tr>\n",
       "      <th>28</th>\n",
       "      <td>NODE_769_length_4549_cov_5.440295_SRR1781945</td>\n",
       "      <td>False</td>\n",
       "      <td>True</td>\n",
       "      <td>False</td>\n",
       "      <td>NaN</td>\n",
       "    </tr>\n",
       "    <tr>\n",
       "      <th>44</th>\n",
       "      <td>NODE_1666_length_3389_cov_1.992150_SRR1781945</td>\n",
       "      <td>False</td>\n",
       "      <td>NaN</td>\n",
       "      <td>NaN</td>\n",
       "      <td>NaN</td>\n",
       "    </tr>\n",
       "    <tr>\n",
       "      <th>52</th>\n",
       "      <td>k141_12641_flag_0_multi_415.0347_len_4142_SRR6...</td>\n",
       "      <td>True</td>\n",
       "      <td>NaN</td>\n",
       "      <td>NaN</td>\n",
       "      <td>NaN</td>\n",
       "    </tr>\n",
       "    <tr>\n",
       "      <th>...</th>\n",
       "      <td>...</td>\n",
       "      <td>...</td>\n",
       "      <td>...</td>\n",
       "      <td>...</td>\n",
       "      <td>...</td>\n",
       "    </tr>\n",
       "    <tr>\n",
       "      <th>2485</th>\n",
       "      <td>k141_34437_flag_1_multi_4.0000_len_688_SRR7288019</td>\n",
       "      <td>NaN</td>\n",
       "      <td>NaN</td>\n",
       "      <td>NaN</td>\n",
       "      <td>True</td>\n",
       "    </tr>\n",
       "    <tr>\n",
       "      <th>2486</th>\n",
       "      <td>NODE_10799_length_1062_cov_1.026396_SRR8554352</td>\n",
       "      <td>NaN</td>\n",
       "      <td>NaN</td>\n",
       "      <td>NaN</td>\n",
       "      <td>True</td>\n",
       "    </tr>\n",
       "    <tr>\n",
       "      <th>2487</th>\n",
       "      <td>NODE_19142_length_744_cov_2.724138_SRR8554352</td>\n",
       "      <td>NaN</td>\n",
       "      <td>NaN</td>\n",
       "      <td>NaN</td>\n",
       "      <td>True</td>\n",
       "    </tr>\n",
       "    <tr>\n",
       "      <th>2488</th>\n",
       "      <td>NODE_19470_length_736_cov_31.872534_SRR8554352</td>\n",
       "      <td>NaN</td>\n",
       "      <td>NaN</td>\n",
       "      <td>NaN</td>\n",
       "      <td>True</td>\n",
       "    </tr>\n",
       "    <tr>\n",
       "      <th>2489</th>\n",
       "      <td>NODE_20969_length_704_cov_1.598086_SRR8554352</td>\n",
       "      <td>NaN</td>\n",
       "      <td>NaN</td>\n",
       "      <td>NaN</td>\n",
       "      <td>True</td>\n",
       "    </tr>\n",
       "  </tbody>\n",
       "</table>\n",
       "<p>434 rows × 5 columns</p>\n",
       "</div>"
      ],
      "text/plain": [
       "                                            contig_name rdrp_orf1_idscore>0.5  \\\n",
       "0         NODE_123_length_4070_cov_4.588543_SRR11613515                  True   \n",
       "27        NODE_1981_length_3457_cov_1.405325_SRR1777513                  True   \n",
       "28         NODE_769_length_4549_cov_5.440295_SRR1781945                 False   \n",
       "44        NODE_1666_length_3389_cov_1.992150_SRR1781945                 False   \n",
       "52    k141_12641_flag_0_multi_415.0347_len_4142_SRR6...                  True   \n",
       "...                                                 ...                   ...   \n",
       "2485  k141_34437_flag_1_multi_4.0000_len_688_SRR7288019                   NaN   \n",
       "2486     NODE_10799_length_1062_cov_1.026396_SRR8554352                   NaN   \n",
       "2487      NODE_19142_length_744_cov_2.724138_SRR8554352                   NaN   \n",
       "2488     NODE_19470_length_736_cov_31.872534_SRR8554352                   NaN   \n",
       "2489      NODE_20969_length_704_cov_1.598086_SRR8554352                   NaN   \n",
       "\n",
       "     rdrp_orf2_idscore>0.5 mp_idscore>0.5 cp_idscore>0.5  \n",
       "0                      NaN          False            NaN  \n",
       "27                     NaN            NaN            NaN  \n",
       "28                    True          False            NaN  \n",
       "44                     NaN            NaN            NaN  \n",
       "52                     NaN            NaN            NaN  \n",
       "...                    ...            ...            ...  \n",
       "2485                   NaN            NaN           True  \n",
       "2486                   NaN            NaN           True  \n",
       "2487                   NaN            NaN           True  \n",
       "2488                   NaN            NaN           True  \n",
       "2489                   NaN            NaN           True  \n",
       "\n",
       "[434 rows x 5 columns]"
      ]
     },
     "execution_count": 89,
     "metadata": {},
     "output_type": "execute_result"
    }
   ],
   "source": [
    "df.drop_duplicates()"
   ]
  },
  {
   "cell_type": "code",
   "execution_count": 90,
   "metadata": {},
   "outputs": [],
   "source": [
    "filtered = df.drop_duplicates().drop(columns=['contig_name'])"
   ]
  },
  {
   "cell_type": "code",
   "execution_count": 91,
   "metadata": {},
   "outputs": [
    {
     "data": {
      "image/png": "[encoded data removed]",
      "text/plain": [
       "<Figure size 1000x500 with 1 Axes>"
      ]
     },
     "metadata": {},
     "output_type": "display_data"
    }
   ],
   "source": [
    "# Stacking the DataFrame\n",
    "stacked_df = filtered.stack().reset_index()\n",
    "stacked_df.columns = ['index', 'column', 'value']\n",
    "\n",
    "# Specifying the order of x-axis labels\n",
    "order = ['rdrp_orf1_idscore>0.5', 'rdrp_orf2_idscore>0.5', 'mp_idscore>0.5', 'cp_idscore>0.5']\n",
    "\n",
    "# Plotting the count of each value in each column with sorted x-axis labels\n",
    "plt.figure(figsize=(10,5))\n",
    "ax = sns.countplot(data=stacked_df, x='column', hue='value', order=order)\n",
    "\n",
    "# Adding counts above bars\n",
    "for p in ax.patches:\n",
    "    height = p.get_height()  # Get the height of the bar\n",
    "    ax.annotate(f'{int(height)}',  # Annotation text\n",
    "                (p.get_x() + p.get_width() / 2., height),  # Position\n",
    "                ha='center', va='center',  # Horizontal and vertical alignment\n",
    "                fontsize=10,  # Font size\n",
    "                color='black',  # Color of the text\n",
    "                xytext=(0, 5),  # Offset the text vertically by 5 units\n",
    "                textcoords='offset points')  # Text coordinates relative to the point\n",
    "\n",
    "\n",
    "plt.xlabel('Columns')\n",
    "plt.ylabel('Count')\n",
    "plt.title('Count of True, False, and NaN Values in Each Column')\n",
    "plt.legend(title='Value', loc='upper right')\n",
    "plt.show()"
   ]
  },
  {
   "cell_type": "code",
   "execution_count": null,
   "metadata": {},
   "outputs": [],
   "source": []
  }
 ],
 "metadata": {
  "kernelspec": {
   "display_name": "base",
   "language": "python",
   "name": "python3"
  },
  "language_info": {
   "codemirror_mode": {
    "name": "ipython",
    "version": 3
   },
   "file_extension": ".py",
   "mimetype": "text/x-python",
   "name": "python",
   "nbconvert_exporter": "python",
   "pygments_lexer": "ipython3",
   "version": "3.9.0"
  }
 },
 "nbformat": 4,
 "nbformat_minor": 2
}
