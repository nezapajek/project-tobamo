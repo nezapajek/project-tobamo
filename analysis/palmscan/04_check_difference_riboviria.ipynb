{
 "cells": [
  {
   "cell_type": "code",
   "execution_count": 17,
   "metadata": {},
   "outputs": [],
   "source": [
    "from Bio import SeqIO\n",
    "import numpy as np"
   ]
  },
  {
   "cell_type": "code",
   "execution_count": 10,
   "metadata": {},
   "outputs": [],
   "source": [
    "riboviria_path = '/home/tobamo/analize/project-tobamo/analysis/palmscan/analysis_data/Martellivirales.FASTA'\n",
    "ribo = list(SeqIO.to_dict(SeqIO.parse(riboviria_path, \"fasta\")).keys())"
   ]
  },
  {
   "cell_type": "code",
   "execution_count": 20,
   "metadata": {},
   "outputs": [],
   "source": [
    "palmscan_path = '/home/tobamo/analize/project-tobamo/analysis/palmscan/analysis_results/riboviria/palmscan_pp.fa'\n",
    "palmscan = list(SeqIO.to_dict(SeqIO.parse(palmscan_path, \"fasta\")).keys())"
   ]
  },
  {
   "cell_type": "code",
   "execution_count": 22,
   "metadata": {},
   "outputs": [
    {
     "data": {
      "text/plain": [
       "array(['Rv4_217791', 'rv20_v2_3004', 'rv20_v2_646'], dtype='<U21')"
      ]
     },
     "execution_count": 22,
     "metadata": {},
     "output_type": "execute_result"
    }
   ],
   "source": [
    "np.setdiff1d(ribo, palmscan)"
   ]
  }
 ],
 "metadata": {
  "kernelspec": {
   "display_name": "base",
   "language": "python",
   "name": "python3"
  },
  "language_info": {
   "codemirror_mode": {
    "name": "ipython",
    "version": 3
   },
   "file_extension": ".py",
   "mimetype": "text/x-python",
   "name": "python",
   "nbconvert_exporter": "python",
   "pygments_lexer": "ipython3",
   "version": "3.9.0"
  }
 },
 "nbformat": 4,
 "nbformat_minor": 2
}
