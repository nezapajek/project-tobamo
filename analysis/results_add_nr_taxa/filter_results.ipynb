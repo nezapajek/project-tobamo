{
 "cells": [
  {
   "cell_type": "code",
   "execution_count": 1,
   "metadata": {},
   "outputs": [],
   "source": [
    "import pandas as pd\n",
    "import mpu\n",
    "from Bio import SeqIO"
   ]
  },
  {
   "cell_type": "code",
   "execution_count": 2,
   "metadata": {},
   "outputs": [],
   "source": [
    "results = pd.read_csv('/home/tobamo/analize/project-tobamo/results/megan6_results_combined.csv', index_col=0)\n",
    "nr_tax = mpu.io.read('/home/tobamo/analize/project-tobamo/analysis/results_add_nr_taxa/accession_dict.json')"
   ]
  },
  {
   "cell_type": "code",
   "execution_count": 3,
   "metadata": {},
   "outputs": [],
   "source": [
    "results['nr_sseqid_key'] = results['nr_sseqid'].str.split('.').str[0]\n",
    "results['nr_tax'] = results['nr_sseqid_key'].map(nr_tax).fillna('')"
   ]
  },
  {
   "cell_type": "code",
   "execution_count": 4,
   "metadata": {},
   "outputs": [],
   "source": [
    "cols = ['SRR','qseqid', 'megan_tax', 'nr_tax', 'tpdb2_sseqid','nr_sseqid', 'nr_pident', 'nr_length',\n",
    "       'nr_mismatch', 'nr_gapopen', 'nr_qstart', 'nr_qend', 'nr_sstart',\n",
    "       'nr_send', 'nr_evalue', 'nr_bitscore',  'tpdb2_pident',\n",
    "       'tpdb2_length', 'tpdb2_mismatch', 'tpdb2_gapopen', 'tpdb2_qstart',\n",
    "       'tpdb2_qend', 'tpdb2_sstart', 'tpdb2_send', 'tpdb2_evalue',\n",
    "       'tpdb2_bitscore', 'sequence',  'nr_sseqid_key']"
   ]
  },
  {
   "cell_type": "code",
   "execution_count": 5,
   "metadata": {},
   "outputs": [],
   "source": [
    "results = results[cols]"
   ]
  },
  {
   "cell_type": "code",
   "execution_count": 6,
   "metadata": {},
   "outputs": [],
   "source": [
    "results.to_csv('/home/tobamo/analize/project-tobamo/results/megan6_results_combined_add_nr_taxa.csv', index=False)"
   ]
  },
  {
   "cell_type": "code",
   "execution_count": 7,
   "metadata": {},
   "outputs": [],
   "source": [
    "non_cellular = results[~results['megan_tax'].str.contains('cellular')]\n",
    "cellular = results[results['megan_tax'].str.contains('cellular')]"
   ]
  },
  {
   "cell_type": "code",
   "execution_count": 8,
   "metadata": {},
   "outputs": [
    {
     "data": {
      "text/plain": [
       "(3406, 3186, 220)"
      ]
     },
     "execution_count": 8,
     "metadata": {},
     "output_type": "execute_result"
    }
   ],
   "source": [
    "results.qseqid.nunique(), non_cellular.qseqid.nunique(),cellular.qseqid.nunique()"
   ]
  },
  {
   "cell_type": "markdown",
   "metadata": {},
   "source": [
    "odstrani kontrolne SRRje"
   ]
  },
  {
   "cell_type": "code",
   "execution_count": 9,
   "metadata": {},
   "outputs": [],
   "source": [
    "samples_path = '/home/tobamo/analize/project-tobamo/config/samples_test.tsv'\n",
    "with open(samples_path) as file: samples = [line.strip() for line in file.readlines()][1:]\n",
    "test_results = results[results['SRR'].isin(samples)]"
   ]
  },
  {
   "cell_type": "code",
   "execution_count": 10,
   "metadata": {},
   "outputs": [
    {
     "data": {
      "text/plain": [
       "(3406, 2567)"
      ]
     },
     "execution_count": 10,
     "metadata": {},
     "output_type": "execute_result"
    }
   ],
   "source": [
    "results.qseqid.nunique(), test_results.qseqid.nunique()"
   ]
  },
  {
   "cell_type": "code",
   "execution_count": 11,
   "metadata": {},
   "outputs": [],
   "source": [
    "test_results_non_cellular = test_results[~test_results['megan_tax'].str.contains('cellular')]\n",
    "test_results_cellular = test_results[test_results['megan_tax'].str.contains('cellular')]"
   ]
  },
  {
   "cell_type": "code",
   "execution_count": 12,
   "metadata": {},
   "outputs": [
    {
     "data": {
      "text/plain": [
       "(2567, 2393, 174)"
      ]
     },
     "execution_count": 12,
     "metadata": {},
     "output_type": "execute_result"
    }
   ],
   "source": [
    "test_results.qseqid.nunique(), test_results_non_cellular.qseqid.nunique(),test_results_cellular.qseqid.nunique()"
   ]
  },
  {
   "cell_type": "code",
   "execution_count": 13,
   "metadata": {},
   "outputs": [],
   "source": [
    "test_results_non_cellular.to_csv('megan6_results_combined_add_nr_taxa_non_cellular.csv')"
   ]
  },
  {
   "cell_type": "code",
   "execution_count": 14,
   "metadata": {},
   "outputs": [],
   "source": [
    "fasta_in = '/home/tobamo/analize/project-tobamo/analysis/palmscan/analysis_data/test_contigs_2024-04-09.fasta'\n",
    "fasta_out = '/home/tobamo/analize/project-tobamo/analysis/palmscan/analysis_data/test_contigs_2024-04-09_non_cellular.fasta'\n",
    "\n",
    "to_remove = test_results_cellular.qseqid.unique()\n",
    "\n",
    "# make new filtered fasta\n",
    "with open(fasta_in, \"r\") as file, open(fasta_out, \"w\") as outfile:\n",
    "    out_seq = (r for r in SeqIO.parse(file, \"fasta\") if r.id not in to_remove)\n",
    "    SeqIO.write(out_seq, outfile, \"fasta\")"
   ]
  }
 ],
 "metadata": {
  "kernelspec": {
   "display_name": "base",
   "language": "python",
   "name": "python3"
  },
  "language_info": {
   "codemirror_mode": {
    "name": "ipython",
    "version": 3
   },
   "file_extension": ".py",
   "mimetype": "text/x-python",
   "name": "python",
   "nbconvert_exporter": "python",
   "pygments_lexer": "ipython3",
   "version": "3.9.0"
  }
 },
 "nbformat": 4,
 "nbformat_minor": 2
}
